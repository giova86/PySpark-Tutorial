{
 "cells": [
  {
   "cell_type": "markdown",
   "metadata": {},
   "source": [
    "# PySpark"
   ]
  },
  {
   "cell_type": "code",
   "execution_count": 74,
   "metadata": {},
   "outputs": [],
   "source": [
    "from pyspark.sql import SparkSession"
   ]
  },
  {
   "cell_type": "markdown",
   "metadata": {},
   "source": [
    "## 1. Inizializzare sessione Spark"
   ]
  },
  {
   "cell_type": "code",
   "execution_count": 75,
   "metadata": {},
   "outputs": [],
   "source": [
    "spark = SparkSession.builder.appName('training').getOrCreate()"
   ]
  },
  {
   "cell_type": "code",
   "execution_count": 76,
   "metadata": {},
   "outputs": [
    {
     "data": {
      "text/html": [
       "\n",
       "            <div>\n",
       "                <p><b>SparkSession - in-memory</b></p>\n",
       "                \n",
       "        <div>\n",
       "            <p><b>SparkContext</b></p>\n",
       "\n",
       "            <p><a href=\"http://giovannsmbp2017.home:4040\">Spark UI</a></p>\n",
       "\n",
       "            <dl>\n",
       "              <dt>Version</dt>\n",
       "                <dd><code>v3.2.0</code></dd>\n",
       "              <dt>Master</dt>\n",
       "                <dd><code>local[*]</code></dd>\n",
       "              <dt>AppName</dt>\n",
       "                <dd><code>training</code></dd>\n",
       "            </dl>\n",
       "        </div>\n",
       "        \n",
       "            </div>\n",
       "        "
      ],
      "text/plain": [
       "<pyspark.sql.session.SparkSession at 0x7ff530e19d30>"
      ]
     },
     "execution_count": 76,
     "metadata": {},
     "output_type": "execute_result"
    }
   ],
   "source": [
    "spark"
   ]
  },
  {
   "cell_type": "markdown",
   "metadata": {},
   "source": [
    "## 2. Caricare dati Spark"
   ]
  },
  {
   "cell_type": "markdown",
   "metadata": {},
   "source": [
    "Senza specificare le colonne sono viste come stringe e aggiunto un nome di colonna generico _c0, _c1..."
   ]
  },
  {
   "cell_type": "code",
   "execution_count": 83,
   "metadata": {},
   "outputs": [],
   "source": [
    "df_spark = spark.read.csv('data/test1.csv')"
   ]
  },
  {
   "cell_type": "code",
   "execution_count": 84,
   "metadata": {},
   "outputs": [
    {
     "data": {
      "text/plain": [
       "DataFrame[_c0: string, _c1: string]"
      ]
     },
     "execution_count": 84,
     "metadata": {},
     "output_type": "execute_result"
    }
   ],
   "source": [
    "df_spark"
   ]
  },
  {
   "cell_type": "code",
   "execution_count": 85,
   "metadata": {},
   "outputs": [
    {
     "name": "stdout",
     "output_type": "stream",
     "text": [
      "+--------+---+\n",
      "|     _c0|_c1|\n",
      "+--------+---+\n",
      "|    Name|Age|\n",
      "|   Marco| 35|\n",
      "|Giovanni| 37|\n",
      "|    Luca| 24|\n",
      "|   Bruno| 25|\n",
      "| Filippo| 18|\n",
      "+--------+---+\n",
      "\n"
     ]
    }
   ],
   "source": [
    "df_spark.show()"
   ]
  },
  {
   "cell_type": "code",
   "execution_count": 86,
   "metadata": {},
   "outputs": [],
   "source": [
    "df_spark = spark.read.option('header', 'true').csv('data/test1.csv')"
   ]
  },
  {
   "cell_type": "code",
   "execution_count": 87,
   "metadata": {},
   "outputs": [
    {
     "data": {
      "text/plain": [
       "DataFrame[Name: string, Age: string]"
      ]
     },
     "execution_count": 87,
     "metadata": {},
     "output_type": "execute_result"
    }
   ],
   "source": [
    "df_spark"
   ]
  },
  {
   "cell_type": "code",
   "execution_count": 88,
   "metadata": {},
   "outputs": [
    {
     "name": "stdout",
     "output_type": "stream",
     "text": [
      "+--------+---+\n",
      "|    Name|Age|\n",
      "+--------+---+\n",
      "|   Marco| 35|\n",
      "|Giovanni| 37|\n",
      "|    Luca| 24|\n",
      "|   Bruno| 25|\n",
      "| Filippo| 18|\n",
      "+--------+---+\n",
      "\n"
     ]
    }
   ],
   "source": [
    "df_spark.show()"
   ]
  },
  {
   "cell_type": "markdown",
   "metadata": {},
   "source": [
    "* header --> utilizza la prima riga come nome delle colonne\n",
    "* inferSchema --> deduce il tipo di colonna"
   ]
  },
  {
   "cell_type": "code",
   "execution_count": 89,
   "metadata": {},
   "outputs": [],
   "source": [
    "df_spark = spark.read.csv('data/test1.csv', header=True, inferSchema=True)"
   ]
  },
  {
   "cell_type": "code",
   "execution_count": 90,
   "metadata": {},
   "outputs": [
    {
     "data": {
      "text/plain": [
       "DataFrame[Name: string, Age: int]"
      ]
     },
     "execution_count": 90,
     "metadata": {},
     "output_type": "execute_result"
    }
   ],
   "source": [
    "df_spark"
   ]
  },
  {
   "cell_type": "code",
   "execution_count": 91,
   "metadata": {},
   "outputs": [
    {
     "name": "stdout",
     "output_type": "stream",
     "text": [
      "+--------+---+\n",
      "|    Name|Age|\n",
      "+--------+---+\n",
      "|   Marco| 35|\n",
      "|Giovanni| 37|\n",
      "|    Luca| 24|\n",
      "|   Bruno| 25|\n",
      "| Filippo| 18|\n",
      "+--------+---+\n",
      "\n"
     ]
    }
   ],
   "source": [
    "df_spark.show()"
   ]
  },
  {
   "cell_type": "markdown",
   "metadata": {},
   "source": [
    "## 3. Visualizzare Dataframe"
   ]
  },
  {
   "cell_type": "code",
   "execution_count": 92,
   "metadata": {},
   "outputs": [
    {
     "data": {
      "text/plain": [
       "[Row(Name='Marco', Age=35),\n",
       " Row(Name='Giovanni', Age=37),\n",
       " Row(Name='Luca', Age=24)]"
      ]
     },
     "execution_count": 92,
     "metadata": {},
     "output_type": "execute_result"
    }
   ],
   "source": [
    "df_spark.head(3)"
   ]
  },
  {
   "cell_type": "code",
   "execution_count": 93,
   "metadata": {},
   "outputs": [
    {
     "name": "stdout",
     "output_type": "stream",
     "text": [
      "root\n",
      " |-- Name: string (nullable = true)\n",
      " |-- Age: integer (nullable = true)\n",
      "\n"
     ]
    }
   ],
   "source": [
    "df_spark.printSchema()"
   ]
  },
  {
   "cell_type": "markdown",
   "metadata": {},
   "source": [
    "# 4. Dataframe\n",
    "* PySpark Dataframe\n",
    "* Reading dataset\n",
    "* Select columns\n",
    "* Describe dataframe\n",
    "* Add columns\n",
    "* Drop columns\n",
    "* Rename columns"
   ]
  },
  {
   "cell_type": "code",
   "execution_count": 95,
   "metadata": {},
   "outputs": [],
   "source": [
    "df_spark = spark.read.csv('data/iris.csv', header=True, inferSchema=True)"
   ]
  },
  {
   "cell_type": "code",
   "execution_count": 96,
   "metadata": {},
   "outputs": [
    {
     "data": {
      "text/plain": [
       "DataFrame[sepal_length: double, sepal_width: double, petal_length: double, petal_width: double, variety: string]"
      ]
     },
     "execution_count": 96,
     "metadata": {},
     "output_type": "execute_result"
    }
   ],
   "source": [
    "df_spark"
   ]
  },
  {
   "cell_type": "code",
   "execution_count": 51,
   "metadata": {},
   "outputs": [
    {
     "name": "stdout",
     "output_type": "stream",
     "text": [
      "+------------+-----------+------------+-----------+-------+\n",
      "|sepal_length|sepal_width|petal_length|petal_width|variety|\n",
      "+------------+-----------+------------+-----------+-------+\n",
      "|         5.1|        3.5|         1.4|        0.2| Setosa|\n",
      "|         4.9|        3.0|         1.4|        0.2| Setosa|\n",
      "|         4.7|        3.2|         1.3|        0.2| Setosa|\n",
      "|         4.6|        3.1|         1.5|        0.2| Setosa|\n",
      "|         5.0|        3.6|         1.4|        0.2| Setosa|\n",
      "|         5.4|        3.9|         1.7|        0.4| Setosa|\n",
      "|         4.6|        3.4|         1.4|        0.3| Setosa|\n",
      "|         5.0|        3.4|         1.5|        0.2| Setosa|\n",
      "|         4.4|        2.9|         1.4|        0.2| Setosa|\n",
      "|         4.9|        3.1|         1.5|        0.1| Setosa|\n",
      "|         5.4|        3.7|         1.5|        0.2| Setosa|\n",
      "|         4.8|        3.4|         1.6|        0.2| Setosa|\n",
      "|         4.8|        3.0|         1.4|        0.1| Setosa|\n",
      "|         4.3|        3.0|         1.1|        0.1| Setosa|\n",
      "|         5.8|        4.0|         1.2|        0.2| Setosa|\n",
      "|         5.7|        4.4|         1.5|        0.4| Setosa|\n",
      "|         5.4|        3.9|         1.3|        0.4| Setosa|\n",
      "|         5.1|        3.5|         1.4|        0.3| Setosa|\n",
      "|         5.7|        3.8|         1.7|        0.3| Setosa|\n",
      "|         5.1|        3.8|         1.5|        0.3| Setosa|\n",
      "+------------+-----------+------------+-----------+-------+\n",
      "only showing top 20 rows\n",
      "\n"
     ]
    }
   ],
   "source": [
    "df_spark.show()"
   ]
  },
  {
   "cell_type": "code",
   "execution_count": 97,
   "metadata": {},
   "outputs": [
    {
     "data": {
      "text/plain": [
       "[Row(sepal_length=5.1, sepal_width=3.5, petal_length=1.4, petal_width=0.2, variety='Setosa'),\n",
       " Row(sepal_length=4.9, sepal_width=3.0, petal_length=1.4, petal_width=0.2, variety='Setosa'),\n",
       " Row(sepal_length=4.7, sepal_width=3.2, petal_length=1.3, petal_width=0.2, variety='Setosa'),\n",
       " Row(sepal_length=4.6, sepal_width=3.1, petal_length=1.5, petal_width=0.2, variety='Setosa'),\n",
       " Row(sepal_length=5.0, sepal_width=3.6, petal_length=1.4, petal_width=0.2, variety='Setosa')]"
      ]
     },
     "execution_count": 97,
     "metadata": {},
     "output_type": "execute_result"
    }
   ],
   "source": [
    "df_spark.head(5)"
   ]
  },
  {
   "cell_type": "code",
   "execution_count": 98,
   "metadata": {},
   "outputs": [
    {
     "name": "stdout",
     "output_type": "stream",
     "text": [
      "root\n",
      " |-- sepal_length: double (nullable = true)\n",
      " |-- sepal_width: double (nullable = true)\n",
      " |-- petal_length: double (nullable = true)\n",
      " |-- petal_width: double (nullable = true)\n",
      " |-- variety: string (nullable = true)\n",
      "\n"
     ]
    }
   ],
   "source": [
    "df_spark.printSchema()"
   ]
  },
  {
   "cell_type": "markdown",
   "metadata": {},
   "source": [
    "### Select columns"
   ]
  },
  {
   "cell_type": "code",
   "execution_count": 99,
   "metadata": {},
   "outputs": [
    {
     "data": {
      "text/plain": [
       "DataFrame[variety: string]"
      ]
     },
     "execution_count": 99,
     "metadata": {},
     "output_type": "execute_result"
    }
   ],
   "source": [
    "df_spark.select('variety')"
   ]
  },
  {
   "cell_type": "code",
   "execution_count": 100,
   "metadata": {},
   "outputs": [
    {
     "name": "stdout",
     "output_type": "stream",
     "text": [
      "+-------+\n",
      "|variety|\n",
      "+-------+\n",
      "| Setosa|\n",
      "| Setosa|\n",
      "| Setosa|\n",
      "| Setosa|\n",
      "| Setosa|\n",
      "| Setosa|\n",
      "| Setosa|\n",
      "| Setosa|\n",
      "| Setosa|\n",
      "| Setosa|\n",
      "| Setosa|\n",
      "| Setosa|\n",
      "| Setosa|\n",
      "| Setosa|\n",
      "| Setosa|\n",
      "| Setosa|\n",
      "| Setosa|\n",
      "| Setosa|\n",
      "| Setosa|\n",
      "| Setosa|\n",
      "+-------+\n",
      "only showing top 20 rows\n",
      "\n"
     ]
    }
   ],
   "source": [
    "df_spark.select('variety').show()"
   ]
  },
  {
   "cell_type": "code",
   "execution_count": 101,
   "metadata": {},
   "outputs": [
    {
     "data": {
      "text/plain": [
       "DataFrame[sepal_length: double, variety: string]"
      ]
     },
     "execution_count": 101,
     "metadata": {},
     "output_type": "execute_result"
    }
   ],
   "source": [
    "df_spark.select(['sepal_length', 'variety'])"
   ]
  },
  {
   "cell_type": "code",
   "execution_count": 102,
   "metadata": {},
   "outputs": [
    {
     "name": "stdout",
     "output_type": "stream",
     "text": [
      "+------------+-------+\n",
      "|sepal_length|variety|\n",
      "+------------+-------+\n",
      "|         5.1| Setosa|\n",
      "|         4.9| Setosa|\n",
      "|         4.7| Setosa|\n",
      "|         4.6| Setosa|\n",
      "|         5.0| Setosa|\n",
      "|         5.4| Setosa|\n",
      "|         4.6| Setosa|\n",
      "|         5.0| Setosa|\n",
      "|         4.4| Setosa|\n",
      "|         4.9| Setosa|\n",
      "|         5.4| Setosa|\n",
      "|         4.8| Setosa|\n",
      "|         4.8| Setosa|\n",
      "|         4.3| Setosa|\n",
      "|         5.8| Setosa|\n",
      "|         5.7| Setosa|\n",
      "|         5.4| Setosa|\n",
      "|         5.1| Setosa|\n",
      "|         5.7| Setosa|\n",
      "|         5.1| Setosa|\n",
      "+------------+-------+\n",
      "only showing top 20 rows\n",
      "\n"
     ]
    }
   ],
   "source": [
    "df_spark.select(['sepal_length', 'variety']).show()"
   ]
  },
  {
   "cell_type": "code",
   "execution_count": 103,
   "metadata": {},
   "outputs": [
    {
     "data": {
      "text/plain": [
       "Column<'variety'>"
      ]
     },
     "execution_count": 103,
     "metadata": {},
     "output_type": "execute_result"
    }
   ],
   "source": [
    "df_spark.variety"
   ]
  },
  {
   "cell_type": "code",
   "execution_count": 104,
   "metadata": {},
   "outputs": [
    {
     "data": {
      "text/plain": [
       "[('sepal_length', 'double'),\n",
       " ('sepal_width', 'double'),\n",
       " ('petal_length', 'double'),\n",
       " ('petal_width', 'double'),\n",
       " ('variety', 'string')]"
      ]
     },
     "execution_count": 104,
     "metadata": {},
     "output_type": "execute_result"
    }
   ],
   "source": [
    "df_spark.dtypes"
   ]
  },
  {
   "cell_type": "markdown",
   "metadata": {},
   "source": [
    "### Describe Dataframe"
   ]
  },
  {
   "cell_type": "code",
   "execution_count": 105,
   "metadata": {},
   "outputs": [
    {
     "data": {
      "text/plain": [
       "DataFrame[summary: string, sepal_length: string, sepal_width: string, petal_length: string, petal_width: string, variety: string]"
      ]
     },
     "execution_count": 105,
     "metadata": {},
     "output_type": "execute_result"
    }
   ],
   "source": [
    "df_spark.describe()"
   ]
  },
  {
   "cell_type": "code",
   "execution_count": 106,
   "metadata": {},
   "outputs": [
    {
     "name": "stdout",
     "output_type": "stream",
     "text": [
      "+-------+------------------+-------------------+------------------+------------------+---------+\n",
      "|summary|      sepal_length|        sepal_width|      petal_length|       petal_width|  variety|\n",
      "+-------+------------------+-------------------+------------------+------------------+---------+\n",
      "|  count|               150|                150|               150|               150|      150|\n",
      "|   mean| 5.843333333333335|  3.057333333333334|3.7580000000000027| 1.199333333333334|     null|\n",
      "| stddev|0.8280661279778637|0.43586628493669793|1.7652982332594662|0.7622376689603467|     null|\n",
      "|    min|               4.3|                2.0|               1.0|               0.1|   Setosa|\n",
      "|    max|               7.9|                4.4|               6.9|               2.5|Virginica|\n",
      "+-------+------------------+-------------------+------------------+------------------+---------+\n",
      "\n"
     ]
    }
   ],
   "source": [
    "df_spark.describe().show()"
   ]
  },
  {
   "cell_type": "markdown",
   "metadata": {},
   "source": [
    "### Add columns"
   ]
  },
  {
   "cell_type": "code",
   "execution_count": 107,
   "metadata": {},
   "outputs": [
    {
     "data": {
      "text/plain": [
       "DataFrame[sepal_length: double, sepal_width: double, petal_length: double, petal_width: double, variety: string, sepal: double]"
      ]
     },
     "execution_count": 107,
     "metadata": {},
     "output_type": "execute_result"
    }
   ],
   "source": [
    "df_spark.withColumn('sepal', (df_spark['sepal_length'] + df_spark['sepal_width'])/2)"
   ]
  },
  {
   "cell_type": "code",
   "execution_count": 108,
   "metadata": {},
   "outputs": [
    {
     "name": "stdout",
     "output_type": "stream",
     "text": [
      "+------------+-----------+------------+-----------+-------+------------------+\n",
      "|sepal_length|sepal_width|petal_length|petal_width|variety|             sepal|\n",
      "+------------+-----------+------------+-----------+-------+------------------+\n",
      "|         5.1|        3.5|         1.4|        0.2| Setosa|               4.3|\n",
      "|         4.9|        3.0|         1.4|        0.2| Setosa|              3.95|\n",
      "|         4.7|        3.2|         1.3|        0.2| Setosa|              3.95|\n",
      "|         4.6|        3.1|         1.5|        0.2| Setosa|3.8499999999999996|\n",
      "|         5.0|        3.6|         1.4|        0.2| Setosa|               4.3|\n",
      "|         5.4|        3.9|         1.7|        0.4| Setosa|              4.65|\n",
      "|         4.6|        3.4|         1.4|        0.3| Setosa|               4.0|\n",
      "|         5.0|        3.4|         1.5|        0.2| Setosa|               4.2|\n",
      "|         4.4|        2.9|         1.4|        0.2| Setosa|3.6500000000000004|\n",
      "|         4.9|        3.1|         1.5|        0.1| Setosa|               4.0|\n",
      "|         5.4|        3.7|         1.5|        0.2| Setosa| 4.550000000000001|\n",
      "|         4.8|        3.4|         1.6|        0.2| Setosa|               4.1|\n",
      "|         4.8|        3.0|         1.4|        0.1| Setosa|               3.9|\n",
      "|         4.3|        3.0|         1.1|        0.1| Setosa|              3.65|\n",
      "|         5.8|        4.0|         1.2|        0.2| Setosa|               4.9|\n",
      "|         5.7|        4.4|         1.5|        0.4| Setosa| 5.050000000000001|\n",
      "|         5.4|        3.9|         1.3|        0.4| Setosa|              4.65|\n",
      "|         5.1|        3.5|         1.4|        0.3| Setosa|               4.3|\n",
      "|         5.7|        3.8|         1.7|        0.3| Setosa|              4.75|\n",
      "|         5.1|        3.8|         1.5|        0.3| Setosa| 4.449999999999999|\n",
      "+------------+-----------+------------+-----------+-------+------------------+\n",
      "only showing top 20 rows\n",
      "\n"
     ]
    }
   ],
   "source": [
    "df_spark.withColumn('sepal', (df_spark['sepal_length'] + df_spark['sepal_width'])/2).show()"
   ]
  },
  {
   "cell_type": "markdown",
   "metadata": {},
   "source": [
    "### Drop columns"
   ]
  },
  {
   "cell_type": "code",
   "execution_count": 109,
   "metadata": {},
   "outputs": [],
   "source": [
    "df_spark = df_spark.withColumn('sepal', (df_spark['sepal_length'] + df_spark['sepal_width'])/2)"
   ]
  },
  {
   "cell_type": "code",
   "execution_count": 110,
   "metadata": {},
   "outputs": [
    {
     "name": "stdout",
     "output_type": "stream",
     "text": [
      "+------------+-----------+------------+-----------+-------+------------------+\n",
      "|sepal_length|sepal_width|petal_length|petal_width|variety|             sepal|\n",
      "+------------+-----------+------------+-----------+-------+------------------+\n",
      "|         5.1|        3.5|         1.4|        0.2| Setosa|               4.3|\n",
      "|         4.9|        3.0|         1.4|        0.2| Setosa|              3.95|\n",
      "|         4.7|        3.2|         1.3|        0.2| Setosa|              3.95|\n",
      "|         4.6|        3.1|         1.5|        0.2| Setosa|3.8499999999999996|\n",
      "|         5.0|        3.6|         1.4|        0.2| Setosa|               4.3|\n",
      "|         5.4|        3.9|         1.7|        0.4| Setosa|              4.65|\n",
      "|         4.6|        3.4|         1.4|        0.3| Setosa|               4.0|\n",
      "|         5.0|        3.4|         1.5|        0.2| Setosa|               4.2|\n",
      "|         4.4|        2.9|         1.4|        0.2| Setosa|3.6500000000000004|\n",
      "|         4.9|        3.1|         1.5|        0.1| Setosa|               4.0|\n",
      "|         5.4|        3.7|         1.5|        0.2| Setosa| 4.550000000000001|\n",
      "|         4.8|        3.4|         1.6|        0.2| Setosa|               4.1|\n",
      "|         4.8|        3.0|         1.4|        0.1| Setosa|               3.9|\n",
      "|         4.3|        3.0|         1.1|        0.1| Setosa|              3.65|\n",
      "|         5.8|        4.0|         1.2|        0.2| Setosa|               4.9|\n",
      "|         5.7|        4.4|         1.5|        0.4| Setosa| 5.050000000000001|\n",
      "|         5.4|        3.9|         1.3|        0.4| Setosa|              4.65|\n",
      "|         5.1|        3.5|         1.4|        0.3| Setosa|               4.3|\n",
      "|         5.7|        3.8|         1.7|        0.3| Setosa|              4.75|\n",
      "|         5.1|        3.8|         1.5|        0.3| Setosa| 4.449999999999999|\n",
      "+------------+-----------+------------+-----------+-------+------------------+\n",
      "only showing top 20 rows\n",
      "\n"
     ]
    }
   ],
   "source": [
    "df_spark.show()"
   ]
  },
  {
   "cell_type": "code",
   "execution_count": 111,
   "metadata": {},
   "outputs": [],
   "source": [
    "df_spark = df_spark.drop('sepal')"
   ]
  },
  {
   "cell_type": "code",
   "execution_count": 112,
   "metadata": {},
   "outputs": [
    {
     "name": "stdout",
     "output_type": "stream",
     "text": [
      "+------------+-----------+------------+-----------+-------+\n",
      "|sepal_length|sepal_width|petal_length|petal_width|variety|\n",
      "+------------+-----------+------------+-----------+-------+\n",
      "|         5.1|        3.5|         1.4|        0.2| Setosa|\n",
      "|         4.9|        3.0|         1.4|        0.2| Setosa|\n",
      "|         4.7|        3.2|         1.3|        0.2| Setosa|\n",
      "|         4.6|        3.1|         1.5|        0.2| Setosa|\n",
      "|         5.0|        3.6|         1.4|        0.2| Setosa|\n",
      "|         5.4|        3.9|         1.7|        0.4| Setosa|\n",
      "|         4.6|        3.4|         1.4|        0.3| Setosa|\n",
      "|         5.0|        3.4|         1.5|        0.2| Setosa|\n",
      "|         4.4|        2.9|         1.4|        0.2| Setosa|\n",
      "|         4.9|        3.1|         1.5|        0.1| Setosa|\n",
      "|         5.4|        3.7|         1.5|        0.2| Setosa|\n",
      "|         4.8|        3.4|         1.6|        0.2| Setosa|\n",
      "|         4.8|        3.0|         1.4|        0.1| Setosa|\n",
      "|         4.3|        3.0|         1.1|        0.1| Setosa|\n",
      "|         5.8|        4.0|         1.2|        0.2| Setosa|\n",
      "|         5.7|        4.4|         1.5|        0.4| Setosa|\n",
      "|         5.4|        3.9|         1.3|        0.4| Setosa|\n",
      "|         5.1|        3.5|         1.4|        0.3| Setosa|\n",
      "|         5.7|        3.8|         1.7|        0.3| Setosa|\n",
      "|         5.1|        3.8|         1.5|        0.3| Setosa|\n",
      "+------------+-----------+------------+-----------+-------+\n",
      "only showing top 20 rows\n",
      "\n"
     ]
    }
   ],
   "source": [
    "df_spark.show()"
   ]
  },
  {
   "cell_type": "markdown",
   "metadata": {},
   "source": [
    "### Rename columns"
   ]
  },
  {
   "cell_type": "code",
   "execution_count": 114,
   "metadata": {},
   "outputs": [
    {
     "data": {
      "text/plain": [
       "DataFrame[sepal_length: double, sepal_width: double, petal_length: double, petal_width: double, class: string]"
      ]
     },
     "execution_count": 114,
     "metadata": {},
     "output_type": "execute_result"
    }
   ],
   "source": [
    "df_spark.withColumnRenamed('variety', 'class')"
   ]
  },
  {
   "cell_type": "code",
   "execution_count": 115,
   "metadata": {},
   "outputs": [
    {
     "name": "stdout",
     "output_type": "stream",
     "text": [
      "+------------+-----------+------------+-----------+------+\n",
      "|sepal_length|sepal_width|petal_length|petal_width| class|\n",
      "+------------+-----------+------------+-----------+------+\n",
      "|         5.1|        3.5|         1.4|        0.2|Setosa|\n",
      "|         4.9|        3.0|         1.4|        0.2|Setosa|\n",
      "|         4.7|        3.2|         1.3|        0.2|Setosa|\n",
      "|         4.6|        3.1|         1.5|        0.2|Setosa|\n",
      "|         5.0|        3.6|         1.4|        0.2|Setosa|\n",
      "|         5.4|        3.9|         1.7|        0.4|Setosa|\n",
      "|         4.6|        3.4|         1.4|        0.3|Setosa|\n",
      "|         5.0|        3.4|         1.5|        0.2|Setosa|\n",
      "|         4.4|        2.9|         1.4|        0.2|Setosa|\n",
      "|         4.9|        3.1|         1.5|        0.1|Setosa|\n",
      "|         5.4|        3.7|         1.5|        0.2|Setosa|\n",
      "|         4.8|        3.4|         1.6|        0.2|Setosa|\n",
      "|         4.8|        3.0|         1.4|        0.1|Setosa|\n",
      "|         4.3|        3.0|         1.1|        0.1|Setosa|\n",
      "|         5.8|        4.0|         1.2|        0.2|Setosa|\n",
      "|         5.7|        4.4|         1.5|        0.4|Setosa|\n",
      "|         5.4|        3.9|         1.3|        0.4|Setosa|\n",
      "|         5.1|        3.5|         1.4|        0.3|Setosa|\n",
      "|         5.7|        3.8|         1.7|        0.3|Setosa|\n",
      "|         5.1|        3.8|         1.5|        0.3|Setosa|\n",
      "+------------+-----------+------------+-----------+------+\n",
      "only showing top 20 rows\n",
      "\n"
     ]
    }
   ],
   "source": [
    "df_spark.withColumnRenamed('variety', 'class').show()"
   ]
  },
  {
   "cell_type": "markdown",
   "metadata": {},
   "source": [
    "# 5. Missing Value"
   ]
  },
  {
   "cell_type": "code",
   "execution_count": 128,
   "metadata": {},
   "outputs": [],
   "source": [
    "df_spark = spark.read.csv('data/test2.csv', header=True, inferSchema=True)"
   ]
  },
  {
   "cell_type": "code",
   "execution_count": 129,
   "metadata": {},
   "outputs": [
    {
     "name": "stdout",
     "output_type": "stream",
     "text": [
      "root\n",
      " |-- Name: string (nullable = true)\n",
      " |-- Age: integer (nullable = true)\n",
      " |-- Year: integer (nullable = true)\n",
      " |-- Salary: integer (nullable = true)\n",
      "\n"
     ]
    }
   ],
   "source": [
    "df_spark.printSchema()"
   ]
  },
  {
   "cell_type": "code",
   "execution_count": 130,
   "metadata": {},
   "outputs": [
    {
     "name": "stdout",
     "output_type": "stream",
     "text": [
      "+--------+----+----+------+\n",
      "|    Name| Age|Year|Salary|\n",
      "+--------+----+----+------+\n",
      "|   Marco|  35|   1| 30000|\n",
      "|Giovanni|  37|   6| 35000|\n",
      "|    Luca|  24|null| 12000|\n",
      "|   Bruno|null|   5| 76000|\n",
      "|    null|  18|null| 32000|\n",
      "|   Italo|  22|   3| 27000|\n",
      "|  Giaomo|null|null|  null|\n",
      "| Alfonso|null|null| 11000|\n",
      "+--------+----+----+------+\n",
      "\n"
     ]
    }
   ],
   "source": [
    "df_spark.show()"
   ]
  },
  {
   "cell_type": "markdown",
   "metadata": {},
   "source": [
    "### Drop rows with at least 1 null"
   ]
  },
  {
   "cell_type": "code",
   "execution_count": 131,
   "metadata": {},
   "outputs": [
    {
     "name": "stdout",
     "output_type": "stream",
     "text": [
      "+--------+---+----+------+\n",
      "|    Name|Age|Year|Salary|\n",
      "+--------+---+----+------+\n",
      "|   Marco| 35|   1| 30000|\n",
      "|Giovanni| 37|   6| 35000|\n",
      "|   Italo| 22|   3| 27000|\n",
      "+--------+---+----+------+\n",
      "\n"
     ]
    }
   ],
   "source": [
    "df_spark.na.drop().show()"
   ]
  },
  {
   "cell_type": "markdown",
   "metadata": {},
   "source": [
    "### Save rows with at least N non-Null values"
   ]
  },
  {
   "cell_type": "code",
   "execution_count": 136,
   "metadata": {},
   "outputs": [
    {
     "name": "stdout",
     "output_type": "stream",
     "text": [
      "+--------+----+----+------+\n",
      "|    Name| Age|Year|Salary|\n",
      "+--------+----+----+------+\n",
      "|   Marco|  35|   1| 30000|\n",
      "|Giovanni|  37|   6| 35000|\n",
      "|    Luca|  24|null| 12000|\n",
      "|   Bruno|null|   5| 76000|\n",
      "|    null|  18|null| 32000|\n",
      "|   Italo|  22|   3| 27000|\n",
      "| Alfonso|null|null| 11000|\n",
      "+--------+----+----+------+\n",
      "\n"
     ]
    }
   ],
   "source": [
    "df_spark.na.drop(thresh=2).show()"
   ]
  },
  {
   "cell_type": "code",
   "execution_count": 137,
   "metadata": {},
   "outputs": [
    {
     "name": "stdout",
     "output_type": "stream",
     "text": [
      "+--------+----+----+------+\n",
      "|    Name| Age|Year|Salary|\n",
      "+--------+----+----+------+\n",
      "|   Marco|  35|   1| 30000|\n",
      "|Giovanni|  37|   6| 35000|\n",
      "|    Luca|  24|null| 12000|\n",
      "|   Bruno|null|   5| 76000|\n",
      "|   Italo|  22|   3| 27000|\n",
      "+--------+----+----+------+\n",
      "\n"
     ]
    }
   ],
   "source": [
    "df_spark.na.drop(thresh=3).show()"
   ]
  },
  {
   "cell_type": "markdown",
   "metadata": {},
   "source": [
    "### Drop Null for specific columns"
   ]
  },
  {
   "cell_type": "code",
   "execution_count": 140,
   "metadata": {},
   "outputs": [
    {
     "name": "stdout",
     "output_type": "stream",
     "text": [
      "+--------+----+----+------+\n",
      "|    Name| Age|Year|Salary|\n",
      "+--------+----+----+------+\n",
      "|   Marco|  35|   1| 30000|\n",
      "|Giovanni|  37|   6| 35000|\n",
      "|    Luca|  24|null| 12000|\n",
      "|   Bruno|null|   5| 76000|\n",
      "|   Italo|  22|   3| 27000|\n",
      "| Alfonso|null|null| 11000|\n",
      "+--------+----+----+------+\n",
      "\n"
     ]
    }
   ],
   "source": [
    "df_spark.na.drop(subset=['Name', 'Salary']).show()"
   ]
  },
  {
   "cell_type": "code",
   "execution_count": 141,
   "metadata": {},
   "outputs": [
    {
     "name": "stdout",
     "output_type": "stream",
     "text": [
      "+--------+----+----+------+\n",
      "|    Name| Age|Year|Salary|\n",
      "+--------+----+----+------+\n",
      "|   Marco|  35|   1| 30000|\n",
      "|Giovanni|  37|   6| 35000|\n",
      "|    Luca|  24|null| 12000|\n",
      "|   Bruno|null|   5| 76000|\n",
      "|   Italo|  22|   3| 27000|\n",
      "| Giacomo|null|null|  null|\n",
      "| Alfonso|null|null| 11000|\n",
      "+--------+----+----+------+\n",
      "\n"
     ]
    }
   ],
   "source": [
    "df_spark.na.drop(subset='Name').show()"
   ]
  },
  {
   "cell_type": "markdown",
   "metadata": {},
   "source": [
    "### Fill NA"
   ]
  },
  {
   "cell_type": "code",
   "execution_count": 150,
   "metadata": {},
   "outputs": [
    {
     "name": "stdout",
     "output_type": "stream",
     "text": [
      "+--------+------+------+------+\n",
      "|    Name|   Age|  Year|Salary|\n",
      "+--------+------+------+------+\n",
      "|   Marco|    35|     1| 30000|\n",
      "|Giovanni|    37|     6| 35000|\n",
      "|    Luca|    24|999999| 12000|\n",
      "|   Bruno|999999|     5| 76000|\n",
      "|    null|    18|999999| 32000|\n",
      "|   Italo|    22|     3| 27000|\n",
      "| Giacomo|999999|999999|999999|\n",
      "| Alfonso|999999|999999| 11000|\n",
      "+--------+------+------+------+\n",
      "\n"
     ]
    }
   ],
   "source": [
    "df_spark.na.fill(999999).show()"
   ]
  },
  {
   "cell_type": "code",
   "execution_count": 147,
   "metadata": {},
   "outputs": [
    {
     "name": "stdout",
     "output_type": "stream",
     "text": [
      "+-----------+----+----+------+\n",
      "|       Name| Age|Year|Salary|\n",
      "+-----------+----+----+------+\n",
      "|      Marco|  35|   1| 30000|\n",
      "|   Giovanni|  37|   6| 35000|\n",
      "|       Luca|  24|null| 12000|\n",
      "|      Bruno|null|   5| 76000|\n",
      "|Sconosciuto|  18|null| 32000|\n",
      "|      Italo|  22|   3| 27000|\n",
      "|    Giacomo|null|null|  null|\n",
      "|    Alfonso|null|null| 11000|\n",
      "+-----------+----+----+------+\n",
      "\n"
     ]
    }
   ],
   "source": [
    "df_spark.na.fill('Sconosciuto').show()"
   ]
  },
  {
   "cell_type": "code",
   "execution_count": 151,
   "metadata": {},
   "outputs": [
    {
     "name": "stdout",
     "output_type": "stream",
     "text": [
      "+-----------+----+----+------+\n",
      "|       Name| Age|Year|Salary|\n",
      "+-----------+----+----+------+\n",
      "|      Marco|  35|   1| 30000|\n",
      "|   Giovanni|  37|   6| 35000|\n",
      "|       Luca|  24|   0| 12000|\n",
      "|      Bruno|null|   5| 76000|\n",
      "|Sconosciuto|  18|   0| 32000|\n",
      "|      Italo|  22|   3| 27000|\n",
      "|    Giacomo|null|   0|  null|\n",
      "|    Alfonso|null|   0| 11000|\n",
      "+-----------+----+----+------+\n",
      "\n"
     ]
    }
   ],
   "source": [
    "df_spark.na.fill({'Name': 'Sconosciuto', 'Age': 'missing', 'Year': 0}).show()"
   ]
  },
  {
   "cell_type": "markdown",
   "metadata": {},
   "source": [
    "### Fill NA with mean/median"
   ]
  },
  {
   "cell_type": "code",
   "execution_count": 169,
   "metadata": {},
   "outputs": [
    {
     "name": "stdout",
     "output_type": "stream",
     "text": [
      "+--------+----+----+------+-----------+------------+--------------+\n",
      "|    Name| Age|Year|Salary|Age_imputed|Year_imputed|Salary_imputed|\n",
      "+--------+----+----+------+-----------+------------+--------------+\n",
      "|   Marco|  35|   1| 30000|         35|           1|         30000|\n",
      "|Giovanni|  37|   6| 35000|         37|           6|         35000|\n",
      "|    Luca|  24|null| 12000|         24|           3|         12000|\n",
      "|   Bruno|null|   5| 76000|         27|           5|         76000|\n",
      "|    null|  18|null| 32000|         18|           3|         32000|\n",
      "|   Italo|  22|   3| 27000|         22|           3|         27000|\n",
      "| Giacomo|null|null|  null|         27|           3|         31857|\n",
      "| Alfonso|null|null| 11000|         27|           3|         11000|\n",
      "+--------+----+----+------+-----------+------------+--------------+\n",
      "\n"
     ]
    }
   ],
   "source": [
    "from pyspark.ml.feature import Imputer\n",
    "\n",
    "imputer = Imputer(\n",
    "    inputCols = ['Age', 'Year', 'Salary'],\n",
    "    outputCols = [f\"{i}_imputed\" for i in input_cols]\n",
    ").setStrategy('mean')\n",
    "\n",
    "imputer.fit(df_spark).transform(df_spark).show()"
   ]
  },
  {
   "cell_type": "code",
   "execution_count": 170,
   "metadata": {},
   "outputs": [
    {
     "name": "stdout",
     "output_type": "stream",
     "text": [
      "+--------+----+----+------+-----------+------------+--------------+\n",
      "|    Name| Age|Year|Salary|Age_imputed|Year_imputed|Salary_imputed|\n",
      "+--------+----+----+------+-----------+------------+--------------+\n",
      "|   Marco|  35|   1| 30000|         35|           1|         30000|\n",
      "|Giovanni|  37|   6| 35000|         37|           6|         35000|\n",
      "|    Luca|  24|null| 12000|         24|           3|         12000|\n",
      "|   Bruno|null|   5| 76000|         24|           5|         76000|\n",
      "|    null|  18|null| 32000|         18|           3|         32000|\n",
      "|   Italo|  22|   3| 27000|         22|           3|         27000|\n",
      "| Giacomo|null|null|  null|         24|           3|         30000|\n",
      "| Alfonso|null|null| 11000|         24|           3|         11000|\n",
      "+--------+----+----+------+-----------+------------+--------------+\n",
      "\n"
     ]
    }
   ],
   "source": [
    "imputer = Imputer(\n",
    "    inputCols = ['Age', 'Year', 'Salary'],\n",
    "    outputCols = [f\"{i}_imputed\" for i in input_cols]\n",
    ").setStrategy('median')\n",
    "\n",
    "imputer.fit(df_spark).transform(df_spark).show()"
   ]
  },
  {
   "cell_type": "markdown",
   "metadata": {},
   "source": [
    "# Filter Dataframe\n",
    "* Fitler operation\n",
    "* &, |, ==\n",
    "* ~"
   ]
  },
  {
   "cell_type": "code",
   "execution_count": 173,
   "metadata": {},
   "outputs": [],
   "source": [
    "df_spark = spark.read.csv('data/iris.csv', header=True, inferSchema=True)"
   ]
  },
  {
   "cell_type": "code",
   "execution_count": 174,
   "metadata": {},
   "outputs": [
    {
     "name": "stdout",
     "output_type": "stream",
     "text": [
      "+------------+-----------+------------+-----------+-------+\n",
      "|sepal_length|sepal_width|petal_length|petal_width|variety|\n",
      "+------------+-----------+------------+-----------+-------+\n",
      "|         5.1|        3.5|         1.4|        0.2| Setosa|\n",
      "|         4.9|        3.0|         1.4|        0.2| Setosa|\n",
      "|         4.7|        3.2|         1.3|        0.2| Setosa|\n",
      "|         4.6|        3.1|         1.5|        0.2| Setosa|\n",
      "|         5.0|        3.6|         1.4|        0.2| Setosa|\n",
      "|         5.4|        3.9|         1.7|        0.4| Setosa|\n",
      "|         4.6|        3.4|         1.4|        0.3| Setosa|\n",
      "|         5.0|        3.4|         1.5|        0.2| Setosa|\n",
      "|         4.4|        2.9|         1.4|        0.2| Setosa|\n",
      "|         4.9|        3.1|         1.5|        0.1| Setosa|\n",
      "|         5.4|        3.7|         1.5|        0.2| Setosa|\n",
      "|         4.8|        3.4|         1.6|        0.2| Setosa|\n",
      "|         4.8|        3.0|         1.4|        0.1| Setosa|\n",
      "|         4.3|        3.0|         1.1|        0.1| Setosa|\n",
      "|         5.8|        4.0|         1.2|        0.2| Setosa|\n",
      "|         5.7|        4.4|         1.5|        0.4| Setosa|\n",
      "|         5.4|        3.9|         1.3|        0.4| Setosa|\n",
      "|         5.1|        3.5|         1.4|        0.3| Setosa|\n",
      "|         5.7|        3.8|         1.7|        0.3| Setosa|\n",
      "|         5.1|        3.8|         1.5|        0.3| Setosa|\n",
      "+------------+-----------+------------+-----------+-------+\n",
      "only showing top 20 rows\n",
      "\n"
     ]
    }
   ],
   "source": [
    "df_spark.show()"
   ]
  },
  {
   "cell_type": "code",
   "execution_count": 187,
   "metadata": {},
   "outputs": [
    {
     "name": "stdout",
     "output_type": "stream",
     "text": [
      "+------------+-----------+------------+-----------+-------+\n",
      "|sepal_length|sepal_width|petal_length|petal_width|variety|\n",
      "+------------+-----------+------------+-----------+-------+\n",
      "|         4.4|        2.9|         1.4|        0.2| Setosa|\n",
      "|         4.3|        3.0|         1.1|        0.1| Setosa|\n",
      "|         4.4|        3.0|         1.3|        0.2| Setosa|\n",
      "|         4.4|        3.2|         1.3|        0.2| Setosa|\n",
      "+------------+-----------+------------+-----------+-------+\n",
      "\n"
     ]
    }
   ],
   "source": [
    "df_spark.filter('sepal_length<4.5').show()"
   ]
  },
  {
   "cell_type": "code",
   "execution_count": 177,
   "metadata": {},
   "outputs": [
    {
     "name": "stdout",
     "output_type": "stream",
     "text": [
      "+------------+-----------+------------+-----------+----------+\n",
      "|sepal_length|sepal_width|petal_length|petal_width|   variety|\n",
      "+------------+-----------+------------+-----------+----------+\n",
      "|         7.0|        3.2|         4.7|        1.4|Versicolor|\n",
      "|         6.4|        3.2|         4.5|        1.5|Versicolor|\n",
      "|         6.9|        3.1|         4.9|        1.5|Versicolor|\n",
      "|         5.5|        2.3|         4.0|        1.3|Versicolor|\n",
      "|         6.5|        2.8|         4.6|        1.5|Versicolor|\n",
      "|         5.7|        2.8|         4.5|        1.3|Versicolor|\n",
      "|         6.3|        3.3|         4.7|        1.6|Versicolor|\n",
      "|         4.9|        2.4|         3.3|        1.0|Versicolor|\n",
      "|         6.6|        2.9|         4.6|        1.3|Versicolor|\n",
      "|         5.2|        2.7|         3.9|        1.4|Versicolor|\n",
      "|         5.0|        2.0|         3.5|        1.0|Versicolor|\n",
      "|         5.9|        3.0|         4.2|        1.5|Versicolor|\n",
      "|         6.0|        2.2|         4.0|        1.0|Versicolor|\n",
      "|         6.1|        2.9|         4.7|        1.4|Versicolor|\n",
      "|         5.6|        2.9|         3.6|        1.3|Versicolor|\n",
      "|         6.7|        3.1|         4.4|        1.4|Versicolor|\n",
      "|         5.6|        3.0|         4.5|        1.5|Versicolor|\n",
      "|         5.8|        2.7|         4.1|        1.0|Versicolor|\n",
      "|         6.2|        2.2|         4.5|        1.5|Versicolor|\n",
      "|         5.6|        2.5|         3.9|        1.1|Versicolor|\n",
      "+------------+-----------+------------+-----------+----------+\n",
      "only showing top 20 rows\n",
      "\n"
     ]
    }
   ],
   "source": [
    "df_spark[df_spark['variety']=='Versicolor'].show()"
   ]
  },
  {
   "cell_type": "code",
   "execution_count": 192,
   "metadata": {},
   "outputs": [
    {
     "name": "stdout",
     "output_type": "stream",
     "text": [
      "+------------+-----------+------------+-----------+----------+\n",
      "|sepal_length|sepal_width|petal_length|petal_width|   variety|\n",
      "+------------+-----------+------------+-----------+----------+\n",
      "|         4.9|        3.0|         1.4|        0.2|    Setosa|\n",
      "|         4.9|        3.1|         1.5|        0.1|    Setosa|\n",
      "|         4.8|        3.4|         1.6|        0.2|    Setosa|\n",
      "|         4.8|        3.0|         1.4|        0.1|    Setosa|\n",
      "|         4.8|        3.4|         1.9|        0.2|    Setosa|\n",
      "|         4.8|        3.1|         1.6|        0.2|    Setosa|\n",
      "|         4.9|        3.1|         1.5|        0.2|    Setosa|\n",
      "|         4.9|        3.6|         1.4|        0.1|    Setosa|\n",
      "|         4.8|        3.0|         1.4|        0.3|    Setosa|\n",
      "|         4.9|        2.4|         3.3|        1.0|Versicolor|\n",
      "|         4.9|        2.5|         4.5|        1.7| Virginica|\n",
      "+------------+-----------+------------+-----------+----------+\n",
      "\n"
     ]
    }
   ],
   "source": [
    "df_spark.filter((df_spark['sepal_length']<5) & \n",
    "                (df_spark['sepal_length']>4.7)).show()"
   ]
  },
  {
   "cell_type": "code",
   "execution_count": 195,
   "metadata": {},
   "outputs": [
    {
     "name": "stdout",
     "output_type": "stream",
     "text": [
      "+------------+-----------+------------+-----------+----------+\n",
      "|sepal_length|sepal_width|petal_length|petal_width|   variety|\n",
      "+------------+-----------+------------+-----------+----------+\n",
      "|         7.0|        3.2|         4.7|        1.4|Versicolor|\n",
      "|         7.1|        3.0|         5.9|        2.1| Virginica|\n",
      "|         7.6|        3.0|         6.6|        2.1| Virginica|\n",
      "|         7.3|        2.9|         6.3|        1.8| Virginica|\n",
      "|         7.2|        3.6|         6.1|        2.5| Virginica|\n",
      "|         7.7|        3.8|         6.7|        2.2| Virginica|\n",
      "|         7.7|        2.6|         6.9|        2.3| Virginica|\n",
      "|         7.7|        2.8|         6.7|        2.0| Virginica|\n",
      "|         7.2|        3.2|         6.0|        1.8| Virginica|\n",
      "|         7.2|        3.0|         5.8|        1.6| Virginica|\n",
      "|         7.4|        2.8|         6.1|        1.9| Virginica|\n",
      "|         7.9|        3.8|         6.4|        2.0| Virginica|\n",
      "|         7.7|        3.0|         6.1|        2.3| Virginica|\n",
      "+------------+-----------+------------+-----------+----------+\n",
      "\n"
     ]
    }
   ],
   "source": [
    "df_spark.filter(~(df_spark['sepal_length']<7)).show()"
   ]
  },
  {
   "cell_type": "markdown",
   "metadata": {},
   "source": [
    "# 6. GroupBy and Aggregate"
   ]
  },
  {
   "cell_type": "code",
   "execution_count": 197,
   "metadata": {},
   "outputs": [],
   "source": [
    "df_spark = spark.read.csv('data/test3.csv', header=True, inferSchema=True)"
   ]
  },
  {
   "cell_type": "code",
   "execution_count": 198,
   "metadata": {},
   "outputs": [
    {
     "name": "stdout",
     "output_type": "stream",
     "text": [
      "+--------+----+------+\n",
      "|    Name| Job|Salary|\n",
      "+--------+----+------+\n",
      "|   Marco|  DS| 30000|\n",
      "|Giovanni|  DS| 35000|\n",
      "|    Luca|  DA| 12000|\n",
      "|   Bruno|  DS| 76000|\n",
      "|Telemaco|  DA| 32000|\n",
      "|   Italo|JrDS| 27000|\n",
      "| Giacomo|JrDS| 11200|\n",
      "| Alfonso|JrDA| 11000|\n",
      "| Rebecca|  DA| 25000|\n",
      "|   Maria|JrDA| 15000|\n",
      "+--------+----+------+\n",
      "\n"
     ]
    }
   ],
   "source": [
    "df_spark.show()"
   ]
  },
  {
   "cell_type": "code",
   "execution_count": 200,
   "metadata": {},
   "outputs": [
    {
     "name": "stdout",
     "output_type": "stream",
     "text": [
      "+----+-----------+\n",
      "| Job|avg(Salary)|\n",
      "+----+-----------+\n",
      "|  DA|    23000.0|\n",
      "|JrDA|    13000.0|\n",
      "|  DS|    47000.0|\n",
      "|JrDS|    19100.0|\n",
      "+----+-----------+\n",
      "\n"
     ]
    }
   ],
   "source": [
    "df_spark.groupBy('Job').mean().show()"
   ]
  },
  {
   "cell_type": "code",
   "execution_count": 201,
   "metadata": {},
   "outputs": [
    {
     "name": "stdout",
     "output_type": "stream",
     "text": [
      "+----+-----+\n",
      "| Job|count|\n",
      "+----+-----+\n",
      "|  DA|    3|\n",
      "|JrDA|    2|\n",
      "|  DS|    3|\n",
      "|JrDS|    2|\n",
      "+----+-----+\n",
      "\n"
     ]
    }
   ],
   "source": [
    "df_spark.groupBy('Job').count().show()"
   ]
  },
  {
   "cell_type": "code",
   "execution_count": 202,
   "metadata": {},
   "outputs": [
    {
     "name": "stdout",
     "output_type": "stream",
     "text": [
      "+----+-----------+\n",
      "| Job|sum(Salary)|\n",
      "+----+-----------+\n",
      "|  DA|      69000|\n",
      "|JrDA|      26000|\n",
      "|  DS|     141000|\n",
      "|JrDS|      38200|\n",
      "+----+-----------+\n",
      "\n"
     ]
    }
   ],
   "source": [
    "df_spark.groupBy('Job').sum().show()"
   ]
  },
  {
   "cell_type": "code",
   "execution_count": 226,
   "metadata": {},
   "outputs": [
    {
     "name": "stdout",
     "output_type": "stream",
     "text": [
      "+----+-----------+\n",
      "| Job|sum(Salary)|\n",
      "+----+-----------+\n",
      "|  DA|      69000|\n",
      "|JrDA|      26000|\n",
      "|  DS|     141000|\n",
      "|JrDS|      38200|\n",
      "+----+-----------+\n",
      "\n"
     ]
    }
   ],
   "source": [
    "df_spark.groupBy('Job').agg({'Salary':'sum'}).show()"
   ]
  },
  {
   "cell_type": "markdown",
   "metadata": {},
   "source": [
    "# 7. Machine learning"
   ]
  },
  {
   "cell_type": "code",
   "execution_count": 228,
   "metadata": {},
   "outputs": [],
   "source": [
    "df_spark = spark.read.csv('data/test4.csv', header=True, inferSchema=True)"
   ]
  },
  {
   "cell_type": "code",
   "execution_count": 229,
   "metadata": {},
   "outputs": [
    {
     "data": {
      "text/plain": [
       "['Name', 'Age', 'Experience', 'Salary']"
      ]
     },
     "execution_count": 229,
     "metadata": {},
     "output_type": "execute_result"
    }
   ],
   "source": [
    "df_spark.columns"
   ]
  },
  {
   "cell_type": "code",
   "execution_count": 231,
   "metadata": {},
   "outputs": [],
   "source": [
    "predictors = ['Age', 'Experience']"
   ]
  },
  {
   "cell_type": "code",
   "execution_count": 235,
   "metadata": {},
   "outputs": [],
   "source": [
    "from pyspark.ml.feature import VectorAssembler\n",
    "featureAssembler = VectorAssembler(inputCols=predictors, outputCol='Independent_predictors')"
   ]
  },
  {
   "cell_type": "code",
   "execution_count": 236,
   "metadata": {},
   "outputs": [],
   "source": [
    "output = featureAssembler.transform(df_spark)"
   ]
  },
  {
   "cell_type": "code",
   "execution_count": 237,
   "metadata": {},
   "outputs": [
    {
     "name": "stdout",
     "output_type": "stream",
     "text": [
      "+--------+---+----------+------+----------------------+\n",
      "|    Name|Age|Experience|Salary|Independent_predictors|\n",
      "+--------+---+----------+------+----------------------+\n",
      "|   Marco| 31|        10| 30000|           [31.0,10.0]|\n",
      "|Giovanni| 30|         8| 25000|            [30.0,8.0]|\n",
      "|    Luca| 29|         4| 20000|            [29.0,4.0]|\n",
      "|   Bruno| 24|         3| 20000|            [24.0,3.0]|\n",
      "|Telemaco| 21|         1| 15000|            [21.0,1.0]|\n",
      "|   Italo| 23|         2| 18000|            [23.0,2.0]|\n",
      "+--------+---+----------+------+----------------------+\n",
      "\n"
     ]
    }
   ],
   "source": [
    "output.show()"
   ]
  },
  {
   "cell_type": "code",
   "execution_count": 239,
   "metadata": {},
   "outputs": [
    {
     "name": "stdout",
     "output_type": "stream",
     "text": [
      "+----------------------+------+\n",
      "|Independent_predictors|Salary|\n",
      "+----------------------+------+\n",
      "|           [31.0,10.0]| 30000|\n",
      "|            [30.0,8.0]| 25000|\n",
      "|            [29.0,4.0]| 20000|\n",
      "|            [24.0,3.0]| 20000|\n",
      "|            [21.0,1.0]| 15000|\n",
      "|            [23.0,2.0]| 18000|\n",
      "+----------------------+------+\n",
      "\n"
     ]
    }
   ],
   "source": [
    "final_df = output.select(['Independent_predictors', 'Salary'])\n",
    "final_df.show()"
   ]
  },
  {
   "cell_type": "markdown",
   "metadata": {},
   "source": [
    "### Linear Regression"
   ]
  },
  {
   "cell_type": "code",
   "execution_count": 242,
   "metadata": {},
   "outputs": [],
   "source": [
    "from pyspark.ml.regression import LinearRegression\n",
    "train_data, test_data = final_df.randomSplit([0.75, 0.25])"
   ]
  },
  {
   "cell_type": "code",
   "execution_count": 243,
   "metadata": {},
   "outputs": [
    {
     "name": "stdout",
     "output_type": "stream",
     "text": [
      "+----------------------+------+\n",
      "|Independent_predictors|Salary|\n",
      "+----------------------+------+\n",
      "|            [24.0,3.0]| 20000|\n",
      "|            [29.0,4.0]| 20000|\n",
      "|            [30.0,8.0]| 25000|\n",
      "|           [31.0,10.0]| 30000|\n",
      "+----------------------+------+\n",
      "\n"
     ]
    }
   ],
   "source": [
    "train_data.show()"
   ]
  },
  {
   "cell_type": "code",
   "execution_count": 244,
   "metadata": {},
   "outputs": [
    {
     "name": "stdout",
     "output_type": "stream",
     "text": [
      "+----------------------+------+\n",
      "|Independent_predictors|Salary|\n",
      "+----------------------+------+\n",
      "|            [21.0,1.0]| 15000|\n",
      "|            [23.0,2.0]| 18000|\n",
      "+----------------------+------+\n",
      "\n"
     ]
    }
   ],
   "source": [
    "test_data.show()"
   ]
  },
  {
   "cell_type": "code",
   "execution_count": 245,
   "metadata": {},
   "outputs": [
    {
     "name": "stderr",
     "output_type": "stream",
     "text": [
      "21/12/26 00:33:12 WARN Instrumentation: [a2b430dc] regParam is zero, which might cause numerical instability and overfitting.\n",
      "21/12/26 00:33:12 WARN InstanceBuilder$NativeBLAS: Failed to load implementation from:dev.ludovic.netlib.blas.JNIBLAS\n",
      "21/12/26 00:33:12 WARN InstanceBuilder$NativeBLAS: Failed to load implementation from:dev.ludovic.netlib.blas.ForeignLinkerBLAS\n",
      "21/12/26 00:33:12 WARN InstanceBuilder$NativeLAPACK: Failed to load implementation from:dev.ludovic.netlib.lapack.JNILAPACK\n"
     ]
    }
   ],
   "source": [
    "regressor = LinearRegression(featuresCol='Independent_predictors', labelCol='Salary')\n",
    "regressor = regressor.fit(train_data)"
   ]
  },
  {
   "cell_type": "code",
   "execution_count": 246,
   "metadata": {},
   "outputs": [
    {
     "data": {
      "text/plain": [
       "DenseVector([-383.9733, 1711.1853])"
      ]
     },
     "execution_count": 246,
     "metadata": {},
     "output_type": "execute_result"
    }
   ],
   "source": [
    "regressor.coefficients"
   ]
  },
  {
   "cell_type": "code",
   "execution_count": 247,
   "metadata": {},
   "outputs": [
    {
     "data": {
      "text/plain": [
       "23998.330550919385"
      ]
     },
     "execution_count": 247,
     "metadata": {},
     "output_type": "execute_result"
    }
   ],
   "source": [
    "regressor.intercept"
   ]
  },
  {
   "cell_type": "code",
   "execution_count": 252,
   "metadata": {},
   "outputs": [],
   "source": [
    "pred_results = regressor.evaluate(test_data)"
   ]
  },
  {
   "cell_type": "code",
   "execution_count": 253,
   "metadata": {},
   "outputs": [
    {
     "name": "stdout",
     "output_type": "stream",
     "text": [
      "+----------------------+------+------------------+\n",
      "|Independent_predictors|Salary|        prediction|\n",
      "+----------------------+------+------------------+\n",
      "|            [21.0,1.0]| 15000| 17646.07679465793|\n",
      "|            [23.0,2.0]| 18000|18589.315525876566|\n",
      "+----------------------+------+------------------+\n",
      "\n"
     ]
    }
   ],
   "source": [
    "pred_results.predictions.show()"
   ]
  },
  {
   "cell_type": "code",
   "execution_count": 254,
   "metadata": {},
   "outputs": [
    {
     "data": {
      "text/plain": [
       "1617.6961602672473"
      ]
     },
     "execution_count": 254,
     "metadata": {},
     "output_type": "execute_result"
    }
   ],
   "source": [
    "pred_results.meanAbsoluteError"
   ]
  },
  {
   "cell_type": "code",
   "execution_count": 255,
   "metadata": {},
   "outputs": [
    {
     "data": {
      "text/plain": [
       "3674507.5961331767"
      ]
     },
     "execution_count": 255,
     "metadata": {},
     "output_type": "execute_result"
    }
   ],
   "source": [
    "pred_results.meanSquaredError"
   ]
  },
  {
   "cell_type": "markdown",
   "metadata": {},
   "source": [
    "### Decision Tree"
   ]
  },
  {
   "cell_type": "code",
   "execution_count": 314,
   "metadata": {},
   "outputs": [],
   "source": [
    "from pyspark.ml import Pipeline\n",
    "from pyspark.ml.classification import DecisionTreeClassifier\n",
    "from pyspark.ml.feature import StringIndexer, VectorIndexer\n",
    "from pyspark.ml.evaluation import MulticlassClassificationEvaluator"
   ]
  },
  {
   "cell_type": "code",
   "execution_count": 315,
   "metadata": {},
   "outputs": [],
   "source": [
    "df_spark = spark.read.csv('data/iris.csv', header=True, inferSchema=True)"
   ]
  },
  {
   "cell_type": "code",
   "execution_count": 316,
   "metadata": {},
   "outputs": [
    {
     "name": "stdout",
     "output_type": "stream",
     "text": [
      "+------------+-----------+------------+-----------+-------+\n",
      "|sepal_length|sepal_width|petal_length|petal_width|variety|\n",
      "+------------+-----------+------------+-----------+-------+\n",
      "|         5.1|        3.5|         1.4|        0.2| Setosa|\n",
      "|         4.9|        3.0|         1.4|        0.2| Setosa|\n",
      "|         4.7|        3.2|         1.3|        0.2| Setosa|\n",
      "|         4.6|        3.1|         1.5|        0.2| Setosa|\n",
      "|         5.0|        3.6|         1.4|        0.2| Setosa|\n",
      "|         5.4|        3.9|         1.7|        0.4| Setosa|\n",
      "|         4.6|        3.4|         1.4|        0.3| Setosa|\n",
      "|         5.0|        3.4|         1.5|        0.2| Setosa|\n",
      "|         4.4|        2.9|         1.4|        0.2| Setosa|\n",
      "|         4.9|        3.1|         1.5|        0.1| Setosa|\n",
      "|         5.4|        3.7|         1.5|        0.2| Setosa|\n",
      "|         4.8|        3.4|         1.6|        0.2| Setosa|\n",
      "|         4.8|        3.0|         1.4|        0.1| Setosa|\n",
      "|         4.3|        3.0|         1.1|        0.1| Setosa|\n",
      "|         5.8|        4.0|         1.2|        0.2| Setosa|\n",
      "|         5.7|        4.4|         1.5|        0.4| Setosa|\n",
      "|         5.4|        3.9|         1.3|        0.4| Setosa|\n",
      "|         5.1|        3.5|         1.4|        0.3| Setosa|\n",
      "|         5.7|        3.8|         1.7|        0.3| Setosa|\n",
      "|         5.1|        3.8|         1.5|        0.3| Setosa|\n",
      "+------------+-----------+------------+-----------+-------+\n",
      "only showing top 20 rows\n",
      "\n"
     ]
    }
   ],
   "source": [
    "df_spark.show()"
   ]
  },
  {
   "cell_type": "code",
   "execution_count": 317,
   "metadata": {},
   "outputs": [],
   "source": [
    "predictors = ['sepal_length','sepal_width','petal_length','petal_width']"
   ]
  },
  {
   "cell_type": "code",
   "execution_count": 318,
   "metadata": {},
   "outputs": [
    {
     "name": "stdout",
     "output_type": "stream",
     "text": [
      "+------------+-----------+------------+-----------+-------+-----------+\n",
      "|sepal_length|sepal_width|petal_length|petal_width|variety|variety_int|\n",
      "+------------+-----------+------------+-----------+-------+-----------+\n",
      "|         5.1|        3.5|         1.4|        0.2| Setosa|        0.0|\n",
      "|         4.9|        3.0|         1.4|        0.2| Setosa|        0.0|\n",
      "|         4.7|        3.2|         1.3|        0.2| Setosa|        0.0|\n",
      "|         4.6|        3.1|         1.5|        0.2| Setosa|        0.0|\n",
      "|         5.0|        3.6|         1.4|        0.2| Setosa|        0.0|\n",
      "|         5.4|        3.9|         1.7|        0.4| Setosa|        0.0|\n",
      "|         4.6|        3.4|         1.4|        0.3| Setosa|        0.0|\n",
      "|         5.0|        3.4|         1.5|        0.2| Setosa|        0.0|\n",
      "|         4.4|        2.9|         1.4|        0.2| Setosa|        0.0|\n",
      "|         4.9|        3.1|         1.5|        0.1| Setosa|        0.0|\n",
      "|         5.4|        3.7|         1.5|        0.2| Setosa|        0.0|\n",
      "|         4.8|        3.4|         1.6|        0.2| Setosa|        0.0|\n",
      "|         4.8|        3.0|         1.4|        0.1| Setosa|        0.0|\n",
      "|         4.3|        3.0|         1.1|        0.1| Setosa|        0.0|\n",
      "|         5.8|        4.0|         1.2|        0.2| Setosa|        0.0|\n",
      "|         5.7|        4.4|         1.5|        0.4| Setosa|        0.0|\n",
      "|         5.4|        3.9|         1.3|        0.4| Setosa|        0.0|\n",
      "|         5.1|        3.5|         1.4|        0.3| Setosa|        0.0|\n",
      "|         5.7|        3.8|         1.7|        0.3| Setosa|        0.0|\n",
      "|         5.1|        3.8|         1.5|        0.3| Setosa|        0.0|\n",
      "+------------+-----------+------------+-----------+-------+-----------+\n",
      "only showing top 20 rows\n",
      "\n"
     ]
    }
   ],
   "source": [
    "df_spark = StringIndexer(inputCol=\"variety\", outputCol=\"variety_int\").fit(df_spark).transform(df_spark)\n",
    "df_spark.show()"
   ]
  },
  {
   "cell_type": "code",
   "execution_count": 319,
   "metadata": {},
   "outputs": [
    {
     "name": "stdout",
     "output_type": "stream",
     "text": [
      "+------------+-----------+------------+-----------+-------+-----------+----------------------+\n",
      "|sepal_length|sepal_width|petal_length|petal_width|variety|variety_int|Independent_predictors|\n",
      "+------------+-----------+------------+-----------+-------+-----------+----------------------+\n",
      "|         5.1|        3.5|         1.4|        0.2| Setosa|        0.0|     [5.1,3.5,1.4,0.2]|\n",
      "|         4.9|        3.0|         1.4|        0.2| Setosa|        0.0|     [4.9,3.0,1.4,0.2]|\n",
      "|         4.7|        3.2|         1.3|        0.2| Setosa|        0.0|     [4.7,3.2,1.3,0.2]|\n",
      "|         4.6|        3.1|         1.5|        0.2| Setosa|        0.0|     [4.6,3.1,1.5,0.2]|\n",
      "|         5.0|        3.6|         1.4|        0.2| Setosa|        0.0|     [5.0,3.6,1.4,0.2]|\n",
      "|         5.4|        3.9|         1.7|        0.4| Setosa|        0.0|     [5.4,3.9,1.7,0.4]|\n",
      "|         4.6|        3.4|         1.4|        0.3| Setosa|        0.0|     [4.6,3.4,1.4,0.3]|\n",
      "|         5.0|        3.4|         1.5|        0.2| Setosa|        0.0|     [5.0,3.4,1.5,0.2]|\n",
      "|         4.4|        2.9|         1.4|        0.2| Setosa|        0.0|     [4.4,2.9,1.4,0.2]|\n",
      "|         4.9|        3.1|         1.5|        0.1| Setosa|        0.0|     [4.9,3.1,1.5,0.1]|\n",
      "|         5.4|        3.7|         1.5|        0.2| Setosa|        0.0|     [5.4,3.7,1.5,0.2]|\n",
      "|         4.8|        3.4|         1.6|        0.2| Setosa|        0.0|     [4.8,3.4,1.6,0.2]|\n",
      "|         4.8|        3.0|         1.4|        0.1| Setosa|        0.0|     [4.8,3.0,1.4,0.1]|\n",
      "|         4.3|        3.0|         1.1|        0.1| Setosa|        0.0|     [4.3,3.0,1.1,0.1]|\n",
      "|         5.8|        4.0|         1.2|        0.2| Setosa|        0.0|     [5.8,4.0,1.2,0.2]|\n",
      "|         5.7|        4.4|         1.5|        0.4| Setosa|        0.0|     [5.7,4.4,1.5,0.4]|\n",
      "|         5.4|        3.9|         1.3|        0.4| Setosa|        0.0|     [5.4,3.9,1.3,0.4]|\n",
      "|         5.1|        3.5|         1.4|        0.3| Setosa|        0.0|     [5.1,3.5,1.4,0.3]|\n",
      "|         5.7|        3.8|         1.7|        0.3| Setosa|        0.0|     [5.7,3.8,1.7,0.3]|\n",
      "|         5.1|        3.8|         1.5|        0.3| Setosa|        0.0|     [5.1,3.8,1.5,0.3]|\n",
      "+------------+-----------+------------+-----------+-------+-----------+----------------------+\n",
      "only showing top 20 rows\n",
      "\n"
     ]
    }
   ],
   "source": [
    "from pyspark.ml.feature import VectorAssembler\n",
    "featureAssembler = VectorAssembler(inputCols=predictors, outputCol='Independent_predictors')\n",
    "df_spark = featureAssembler.transform(df_spark)\n",
    "df_spark.show()"
   ]
  },
  {
   "cell_type": "code",
   "execution_count": 320,
   "metadata": {},
   "outputs": [
    {
     "name": "stdout",
     "output_type": "stream",
     "text": [
      "+----------------------+-----------+\n",
      "|Independent_predictors|variety_int|\n",
      "+----------------------+-----------+\n",
      "|     [5.1,3.5,1.4,0.2]|        0.0|\n",
      "|     [4.9,3.0,1.4,0.2]|        0.0|\n",
      "|     [4.7,3.2,1.3,0.2]|        0.0|\n",
      "|     [4.6,3.1,1.5,0.2]|        0.0|\n",
      "|     [5.0,3.6,1.4,0.2]|        0.0|\n",
      "|     [5.4,3.9,1.7,0.4]|        0.0|\n",
      "|     [4.6,3.4,1.4,0.3]|        0.0|\n",
      "|     [5.0,3.4,1.5,0.2]|        0.0|\n",
      "|     [4.4,2.9,1.4,0.2]|        0.0|\n",
      "|     [4.9,3.1,1.5,0.1]|        0.0|\n",
      "|     [5.4,3.7,1.5,0.2]|        0.0|\n",
      "|     [4.8,3.4,1.6,0.2]|        0.0|\n",
      "|     [4.8,3.0,1.4,0.1]|        0.0|\n",
      "|     [4.3,3.0,1.1,0.1]|        0.0|\n",
      "|     [5.8,4.0,1.2,0.2]|        0.0|\n",
      "|     [5.7,4.4,1.5,0.4]|        0.0|\n",
      "|     [5.4,3.9,1.3,0.4]|        0.0|\n",
      "|     [5.1,3.5,1.4,0.3]|        0.0|\n",
      "|     [5.7,3.8,1.7,0.3]|        0.0|\n",
      "|     [5.1,3.8,1.5,0.3]|        0.0|\n",
      "+----------------------+-----------+\n",
      "only showing top 20 rows\n",
      "\n"
     ]
    }
   ],
   "source": [
    "df_final = df_spark.select(['Independent_predictors', 'variety_int'])\n",
    "df_final.show()"
   ]
  },
  {
   "cell_type": "code",
   "execution_count": 321,
   "metadata": {},
   "outputs": [],
   "source": [
    "dtc = DecisionTreeClassifier(labelCol=\"variety_int\", featuresCol=\"Independent_predictors\")\n",
    "dtc = dtc.fit(df_final)"
   ]
  },
  {
   "cell_type": "code",
   "execution_count": 322,
   "metadata": {},
   "outputs": [
    {
     "name": "stdout",
     "output_type": "stream",
     "text": [
      "+----------------------+-----------+--------------+-------------+----------+\n",
      "|Independent_predictors|variety_int| rawPrediction|  probability|prediction|\n",
      "+----------------------+-----------+--------------+-------------+----------+\n",
      "|     [5.1,3.5,1.4,0.2]|        0.0|[50.0,0.0,0.0]|[1.0,0.0,0.0]|       0.0|\n",
      "|     [4.9,3.0,1.4,0.2]|        0.0|[50.0,0.0,0.0]|[1.0,0.0,0.0]|       0.0|\n",
      "|     [4.7,3.2,1.3,0.2]|        0.0|[50.0,0.0,0.0]|[1.0,0.0,0.0]|       0.0|\n",
      "|     [4.6,3.1,1.5,0.2]|        0.0|[50.0,0.0,0.0]|[1.0,0.0,0.0]|       0.0|\n",
      "|     [5.0,3.6,1.4,0.2]|        0.0|[50.0,0.0,0.0]|[1.0,0.0,0.0]|       0.0|\n",
      "|     [5.4,3.9,1.7,0.4]|        0.0|[50.0,0.0,0.0]|[1.0,0.0,0.0]|       0.0|\n",
      "|     [4.6,3.4,1.4,0.3]|        0.0|[50.0,0.0,0.0]|[1.0,0.0,0.0]|       0.0|\n",
      "|     [5.0,3.4,1.5,0.2]|        0.0|[50.0,0.0,0.0]|[1.0,0.0,0.0]|       0.0|\n",
      "|     [4.4,2.9,1.4,0.2]|        0.0|[50.0,0.0,0.0]|[1.0,0.0,0.0]|       0.0|\n",
      "|     [4.9,3.1,1.5,0.1]|        0.0|[50.0,0.0,0.0]|[1.0,0.0,0.0]|       0.0|\n",
      "|     [5.4,3.7,1.5,0.2]|        0.0|[50.0,0.0,0.0]|[1.0,0.0,0.0]|       0.0|\n",
      "|     [4.8,3.4,1.6,0.2]|        0.0|[50.0,0.0,0.0]|[1.0,0.0,0.0]|       0.0|\n",
      "|     [4.8,3.0,1.4,0.1]|        0.0|[50.0,0.0,0.0]|[1.0,0.0,0.0]|       0.0|\n",
      "|     [4.3,3.0,1.1,0.1]|        0.0|[50.0,0.0,0.0]|[1.0,0.0,0.0]|       0.0|\n",
      "|     [5.8,4.0,1.2,0.2]|        0.0|[50.0,0.0,0.0]|[1.0,0.0,0.0]|       0.0|\n",
      "|     [5.7,4.4,1.5,0.4]|        0.0|[50.0,0.0,0.0]|[1.0,0.0,0.0]|       0.0|\n",
      "|     [5.4,3.9,1.3,0.4]|        0.0|[50.0,0.0,0.0]|[1.0,0.0,0.0]|       0.0|\n",
      "|     [5.1,3.5,1.4,0.3]|        0.0|[50.0,0.0,0.0]|[1.0,0.0,0.0]|       0.0|\n",
      "|     [5.7,3.8,1.7,0.3]|        0.0|[50.0,0.0,0.0]|[1.0,0.0,0.0]|       0.0|\n",
      "|     [5.1,3.8,1.5,0.3]|        0.0|[50.0,0.0,0.0]|[1.0,0.0,0.0]|       0.0|\n",
      "+----------------------+-----------+--------------+-------------+----------+\n",
      "only showing top 20 rows\n",
      "\n"
     ]
    }
   ],
   "source": [
    "df_final = dtc.transform(df_final)\n",
    "df_final.show()"
   ]
  },
  {
   "cell_type": "code",
   "execution_count": 323,
   "metadata": {},
   "outputs": [
    {
     "name": "stdout",
     "output_type": "stream",
     "text": [
      "+----------------------+-----+--------------+-------------+----------+\n",
      "|Independent_predictors|label| rawPrediction|  probability|prediction|\n",
      "+----------------------+-----+--------------+-------------+----------+\n",
      "|     [5.1,3.5,1.4,0.2]|  0.0|[50.0,0.0,0.0]|[1.0,0.0,0.0]|       0.0|\n",
      "|     [4.9,3.0,1.4,0.2]|  0.0|[50.0,0.0,0.0]|[1.0,0.0,0.0]|       0.0|\n",
      "|     [4.7,3.2,1.3,0.2]|  0.0|[50.0,0.0,0.0]|[1.0,0.0,0.0]|       0.0|\n",
      "|     [4.6,3.1,1.5,0.2]|  0.0|[50.0,0.0,0.0]|[1.0,0.0,0.0]|       0.0|\n",
      "|     [5.0,3.6,1.4,0.2]|  0.0|[50.0,0.0,0.0]|[1.0,0.0,0.0]|       0.0|\n",
      "|     [5.4,3.9,1.7,0.4]|  0.0|[50.0,0.0,0.0]|[1.0,0.0,0.0]|       0.0|\n",
      "|     [4.6,3.4,1.4,0.3]|  0.0|[50.0,0.0,0.0]|[1.0,0.0,0.0]|       0.0|\n",
      "|     [5.0,3.4,1.5,0.2]|  0.0|[50.0,0.0,0.0]|[1.0,0.0,0.0]|       0.0|\n",
      "|     [4.4,2.9,1.4,0.2]|  0.0|[50.0,0.0,0.0]|[1.0,0.0,0.0]|       0.0|\n",
      "|     [4.9,3.1,1.5,0.1]|  0.0|[50.0,0.0,0.0]|[1.0,0.0,0.0]|       0.0|\n",
      "|     [5.4,3.7,1.5,0.2]|  0.0|[50.0,0.0,0.0]|[1.0,0.0,0.0]|       0.0|\n",
      "|     [4.8,3.4,1.6,0.2]|  0.0|[50.0,0.0,0.0]|[1.0,0.0,0.0]|       0.0|\n",
      "|     [4.8,3.0,1.4,0.1]|  0.0|[50.0,0.0,0.0]|[1.0,0.0,0.0]|       0.0|\n",
      "|     [4.3,3.0,1.1,0.1]|  0.0|[50.0,0.0,0.0]|[1.0,0.0,0.0]|       0.0|\n",
      "|     [5.8,4.0,1.2,0.2]|  0.0|[50.0,0.0,0.0]|[1.0,0.0,0.0]|       0.0|\n",
      "|     [5.7,4.4,1.5,0.4]|  0.0|[50.0,0.0,0.0]|[1.0,0.0,0.0]|       0.0|\n",
      "|     [5.4,3.9,1.3,0.4]|  0.0|[50.0,0.0,0.0]|[1.0,0.0,0.0]|       0.0|\n",
      "|     [5.1,3.5,1.4,0.3]|  0.0|[50.0,0.0,0.0]|[1.0,0.0,0.0]|       0.0|\n",
      "|     [5.7,3.8,1.7,0.3]|  0.0|[50.0,0.0,0.0]|[1.0,0.0,0.0]|       0.0|\n",
      "|     [5.1,3.8,1.5,0.3]|  0.0|[50.0,0.0,0.0]|[1.0,0.0,0.0]|       0.0|\n",
      "+----------------------+-----+--------------+-------------+----------+\n",
      "only showing top 20 rows\n",
      "\n"
     ]
    }
   ],
   "source": [
    "df_final = df_final.withColumnRenamed('variety_int', 'label')\n",
    "df_final.show()"
   ]
  },
  {
   "cell_type": "code",
   "execution_count": 324,
   "metadata": {},
   "outputs": [],
   "source": [
    "from pyspark.ml.evaluation import MulticlassClassificationEvaluator"
   ]
  },
  {
   "cell_type": "code",
   "execution_count": 325,
   "metadata": {},
   "outputs": [],
   "source": [
    "acc_eval = MulticlassClassificationEvaluator(metricName='accuracy')"
   ]
  },
  {
   "cell_type": "code",
   "execution_count": 326,
   "metadata": {},
   "outputs": [
    {
     "data": {
      "text/plain": [
       "1.0"
      ]
     },
     "execution_count": 326,
     "metadata": {},
     "output_type": "execute_result"
    }
   ],
   "source": [
    "acc_eval.evaluate(df_final)"
   ]
  },
  {
   "cell_type": "code",
   "execution_count": null,
   "metadata": {},
   "outputs": [],
   "source": []
  },
  {
   "cell_type": "code",
   "execution_count": null,
   "metadata": {},
   "outputs": [],
   "source": []
  },
  {
   "cell_type": "code",
   "execution_count": null,
   "metadata": {},
   "outputs": [],
   "source": []
  },
  {
   "cell_type": "code",
   "execution_count": null,
   "metadata": {},
   "outputs": [],
   "source": []
  },
  {
   "cell_type": "code",
   "execution_count": null,
   "metadata": {},
   "outputs": [],
   "source": []
  },
  {
   "cell_type": "code",
   "execution_count": null,
   "metadata": {},
   "outputs": [],
   "source": []
  }
 ],
 "metadata": {
  "kernelspec": {
   "display_name": "Python 3.8",
   "language": "python",
   "name": "python3.8"
  },
  "language_info": {
   "codemirror_mode": {
    "name": "ipython",
    "version": 3
   },
   "file_extension": ".py",
   "mimetype": "text/x-python",
   "name": "python",
   "nbconvert_exporter": "python",
   "pygments_lexer": "ipython3",
   "version": "3.8.4"
  }
 },
 "nbformat": 4,
 "nbformat_minor": 4
}
