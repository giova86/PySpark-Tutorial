{
 "cells": [
  {
   "cell_type": "markdown",
   "metadata": {},
   "source": [
    "# PySpark"
   ]
  },
  {
   "cell_type": "code",
   "execution_count": 1,
   "metadata": {},
   "outputs": [],
   "source": [
    "from pyspark.sql import SparkSession"
   ]
  },
  {
   "cell_type": "markdown",
   "metadata": {},
   "source": [
    "## 1. Inizializzare sessione Spark"
   ]
  },
  {
   "cell_type": "code",
   "execution_count": 2,
   "metadata": {},
   "outputs": [
    {
     "name": "stderr",
     "output_type": "stream",
     "text": [
      "WARNING: An illegal reflective access operation has occurred\n",
      "WARNING: Illegal reflective access by org.apache.spark.unsafe.Platform (file:/Users/giovannibocchi/Work/dev_proj/PySpark-Tutorial/venv/lib/python3.8/site-packages/pyspark/jars/spark-unsafe_2.12-3.2.0.jar) to constructor java.nio.DirectByteBuffer(long,int)\n",
      "WARNING: Please consider reporting this to the maintainers of org.apache.spark.unsafe.Platform\n",
      "WARNING: Use --illegal-access=warn to enable warnings of further illegal reflective access operations\n",
      "WARNING: All illegal access operations will be denied in a future release\n",
      "Using Spark's default log4j profile: org/apache/spark/log4j-defaults.properties\n",
      "Setting default log level to \"WARN\".\n",
      "To adjust logging level use sc.setLogLevel(newLevel). For SparkR, use setLogLevel(newLevel).\n",
      "21/12/28 12:31:24 WARN NativeCodeLoader: Unable to load native-hadoop library for your platform... using builtin-java classes where applicable\n"
     ]
    }
   ],
   "source": [
    "spark = SparkSession.builder.appName('training').getOrCreate()"
   ]
  },
  {
   "cell_type": "code",
   "execution_count": 76,
   "metadata": {},
   "outputs": [
    {
     "data": {
      "text/html": [
       "\n",
       "            <div>\n",
       "                <p><b>SparkSession - in-memory</b></p>\n",
       "                \n",
       "        <div>\n",
       "            <p><b>SparkContext</b></p>\n",
       "\n",
       "            <p><a href=\"http://giovannsmbp2017.home:4040\">Spark UI</a></p>\n",
       "\n",
       "            <dl>\n",
       "              <dt>Version</dt>\n",
       "                <dd><code>v3.2.0</code></dd>\n",
       "              <dt>Master</dt>\n",
       "                <dd><code>local[*]</code></dd>\n",
       "              <dt>AppName</dt>\n",
       "                <dd><code>training</code></dd>\n",
       "            </dl>\n",
       "        </div>\n",
       "        \n",
       "            </div>\n",
       "        "
      ],
      "text/plain": [
       "<pyspark.sql.session.SparkSession at 0x7ff530e19d30>"
      ]
     },
     "execution_count": 76,
     "metadata": {},
     "output_type": "execute_result"
    }
   ],
   "source": [
    "spark"
   ]
  },
  {
   "cell_type": "markdown",
   "metadata": {},
   "source": [
    "## 2. Caricare dati Spark"
   ]
  },
  {
   "cell_type": "markdown",
   "metadata": {},
   "source": [
    "Senza specificare le colonne sono viste come stringe e aggiunto un nome di colonna generico _c0, _c1..."
   ]
  },
  {
   "cell_type": "code",
   "execution_count": 83,
   "metadata": {},
   "outputs": [],
   "source": [
    "df_spark = spark.read.csv('data/test1.csv')"
   ]
  },
  {
   "cell_type": "code",
   "execution_count": 84,
   "metadata": {},
   "outputs": [
    {
     "data": {
      "text/plain": [
       "DataFrame[_c0: string, _c1: string]"
      ]
     },
     "execution_count": 84,
     "metadata": {},
     "output_type": "execute_result"
    }
   ],
   "source": [
    "df_spark"
   ]
  },
  {
   "cell_type": "code",
   "execution_count": 85,
   "metadata": {},
   "outputs": [
    {
     "name": "stdout",
     "output_type": "stream",
     "text": [
      "+--------+---+\n",
      "|     _c0|_c1|\n",
      "+--------+---+\n",
      "|    Name|Age|\n",
      "|   Marco| 35|\n",
      "|Giovanni| 37|\n",
      "|    Luca| 24|\n",
      "|   Bruno| 25|\n",
      "| Filippo| 18|\n",
      "+--------+---+\n",
      "\n"
     ]
    }
   ],
   "source": [
    "df_spark.show()"
   ]
  },
  {
   "cell_type": "code",
   "execution_count": 86,
   "metadata": {},
   "outputs": [],
   "source": [
    "df_spark = spark.read.option('header', 'true').csv('data/test1.csv')"
   ]
  },
  {
   "cell_type": "code",
   "execution_count": 87,
   "metadata": {},
   "outputs": [
    {
     "data": {
      "text/plain": [
       "DataFrame[Name: string, Age: string]"
      ]
     },
     "execution_count": 87,
     "metadata": {},
     "output_type": "execute_result"
    }
   ],
   "source": [
    "df_spark"
   ]
  },
  {
   "cell_type": "code",
   "execution_count": 88,
   "metadata": {},
   "outputs": [
    {
     "name": "stdout",
     "output_type": "stream",
     "text": [
      "+--------+---+\n",
      "|    Name|Age|\n",
      "+--------+---+\n",
      "|   Marco| 35|\n",
      "|Giovanni| 37|\n",
      "|    Luca| 24|\n",
      "|   Bruno| 25|\n",
      "| Filippo| 18|\n",
      "+--------+---+\n",
      "\n"
     ]
    }
   ],
   "source": [
    "df_spark.show()"
   ]
  },
  {
   "cell_type": "markdown",
   "metadata": {},
   "source": [
    "* header --> utilizza la prima riga come nome delle colonne\n",
    "* inferSchema --> deduce il tipo di colonna"
   ]
  },
  {
   "cell_type": "code",
   "execution_count": 89,
   "metadata": {},
   "outputs": [],
   "source": [
    "df_spark = spark.read.csv('data/test1.csv', header=True, inferSchema=True)"
   ]
  },
  {
   "cell_type": "code",
   "execution_count": 90,
   "metadata": {},
   "outputs": [
    {
     "data": {
      "text/plain": [
       "DataFrame[Name: string, Age: int]"
      ]
     },
     "execution_count": 90,
     "metadata": {},
     "output_type": "execute_result"
    }
   ],
   "source": [
    "df_spark"
   ]
  },
  {
   "cell_type": "code",
   "execution_count": 91,
   "metadata": {},
   "outputs": [
    {
     "name": "stdout",
     "output_type": "stream",
     "text": [
      "+--------+---+\n",
      "|    Name|Age|\n",
      "+--------+---+\n",
      "|   Marco| 35|\n",
      "|Giovanni| 37|\n",
      "|    Luca| 24|\n",
      "|   Bruno| 25|\n",
      "| Filippo| 18|\n",
      "+--------+---+\n",
      "\n"
     ]
    }
   ],
   "source": [
    "df_spark.show()"
   ]
  },
  {
   "cell_type": "markdown",
   "metadata": {},
   "source": [
    "## 3. Visualizzare Dataframe"
   ]
  },
  {
   "cell_type": "code",
   "execution_count": 92,
   "metadata": {},
   "outputs": [
    {
     "data": {
      "text/plain": [
       "[Row(Name='Marco', Age=35),\n",
       " Row(Name='Giovanni', Age=37),\n",
       " Row(Name='Luca', Age=24)]"
      ]
     },
     "execution_count": 92,
     "metadata": {},
     "output_type": "execute_result"
    }
   ],
   "source": [
    "df_spark.head(3)"
   ]
  },
  {
   "cell_type": "code",
   "execution_count": 93,
   "metadata": {},
   "outputs": [
    {
     "name": "stdout",
     "output_type": "stream",
     "text": [
      "root\n",
      " |-- Name: string (nullable = true)\n",
      " |-- Age: integer (nullable = true)\n",
      "\n"
     ]
    }
   ],
   "source": [
    "df_spark.printSchema()"
   ]
  },
  {
   "cell_type": "markdown",
   "metadata": {},
   "source": [
    "## 4. Dataframe\n",
    "* PySpark Dataframe\n",
    "* Reading dataset\n",
    "* Select columns\n",
    "* Describe dataframe\n",
    "* Add columns\n",
    "* Drop columns\n",
    "* Rename columns"
   ]
  },
  {
   "cell_type": "code",
   "execution_count": 95,
   "metadata": {},
   "outputs": [],
   "source": [
    "df_spark = spark.read.csv('data/iris.csv', header=True, inferSchema=True)"
   ]
  },
  {
   "cell_type": "code",
   "execution_count": 96,
   "metadata": {},
   "outputs": [
    {
     "data": {
      "text/plain": [
       "DataFrame[sepal_length: double, sepal_width: double, petal_length: double, petal_width: double, variety: string]"
      ]
     },
     "execution_count": 96,
     "metadata": {},
     "output_type": "execute_result"
    }
   ],
   "source": [
    "df_spark"
   ]
  },
  {
   "cell_type": "code",
   "execution_count": 51,
   "metadata": {},
   "outputs": [
    {
     "name": "stdout",
     "output_type": "stream",
     "text": [
      "+------------+-----------+------------+-----------+-------+\n",
      "|sepal_length|sepal_width|petal_length|petal_width|variety|\n",
      "+------------+-----------+------------+-----------+-------+\n",
      "|         5.1|        3.5|         1.4|        0.2| Setosa|\n",
      "|         4.9|        3.0|         1.4|        0.2| Setosa|\n",
      "|         4.7|        3.2|         1.3|        0.2| Setosa|\n",
      "|         4.6|        3.1|         1.5|        0.2| Setosa|\n",
      "|         5.0|        3.6|         1.4|        0.2| Setosa|\n",
      "|         5.4|        3.9|         1.7|        0.4| Setosa|\n",
      "|         4.6|        3.4|         1.4|        0.3| Setosa|\n",
      "|         5.0|        3.4|         1.5|        0.2| Setosa|\n",
      "|         4.4|        2.9|         1.4|        0.2| Setosa|\n",
      "|         4.9|        3.1|         1.5|        0.1| Setosa|\n",
      "|         5.4|        3.7|         1.5|        0.2| Setosa|\n",
      "|         4.8|        3.4|         1.6|        0.2| Setosa|\n",
      "|         4.8|        3.0|         1.4|        0.1| Setosa|\n",
      "|         4.3|        3.0|         1.1|        0.1| Setosa|\n",
      "|         5.8|        4.0|         1.2|        0.2| Setosa|\n",
      "|         5.7|        4.4|         1.5|        0.4| Setosa|\n",
      "|         5.4|        3.9|         1.3|        0.4| Setosa|\n",
      "|         5.1|        3.5|         1.4|        0.3| Setosa|\n",
      "|         5.7|        3.8|         1.7|        0.3| Setosa|\n",
      "|         5.1|        3.8|         1.5|        0.3| Setosa|\n",
      "+------------+-----------+------------+-----------+-------+\n",
      "only showing top 20 rows\n",
      "\n"
     ]
    }
   ],
   "source": [
    "df_spark.show()"
   ]
  },
  {
   "cell_type": "code",
   "execution_count": 97,
   "metadata": {},
   "outputs": [
    {
     "data": {
      "text/plain": [
       "[Row(sepal_length=5.1, sepal_width=3.5, petal_length=1.4, petal_width=0.2, variety='Setosa'),\n",
       " Row(sepal_length=4.9, sepal_width=3.0, petal_length=1.4, petal_width=0.2, variety='Setosa'),\n",
       " Row(sepal_length=4.7, sepal_width=3.2, petal_length=1.3, petal_width=0.2, variety='Setosa'),\n",
       " Row(sepal_length=4.6, sepal_width=3.1, petal_length=1.5, petal_width=0.2, variety='Setosa'),\n",
       " Row(sepal_length=5.0, sepal_width=3.6, petal_length=1.4, petal_width=0.2, variety='Setosa')]"
      ]
     },
     "execution_count": 97,
     "metadata": {},
     "output_type": "execute_result"
    }
   ],
   "source": [
    "df_spark.head(5)"
   ]
  },
  {
   "cell_type": "code",
   "execution_count": 98,
   "metadata": {},
   "outputs": [
    {
     "name": "stdout",
     "output_type": "stream",
     "text": [
      "root\n",
      " |-- sepal_length: double (nullable = true)\n",
      " |-- sepal_width: double (nullable = true)\n",
      " |-- petal_length: double (nullable = true)\n",
      " |-- petal_width: double (nullable = true)\n",
      " |-- variety: string (nullable = true)\n",
      "\n"
     ]
    }
   ],
   "source": [
    "df_spark.printSchema()"
   ]
  },
  {
   "cell_type": "markdown",
   "metadata": {},
   "source": [
    "### Select columns"
   ]
  },
  {
   "cell_type": "code",
   "execution_count": 99,
   "metadata": {},
   "outputs": [
    {
     "data": {
      "text/plain": [
       "DataFrame[variety: string]"
      ]
     },
     "execution_count": 99,
     "metadata": {},
     "output_type": "execute_result"
    }
   ],
   "source": [
    "df_spark.select('variety')"
   ]
  },
  {
   "cell_type": "code",
   "execution_count": 100,
   "metadata": {},
   "outputs": [
    {
     "name": "stdout",
     "output_type": "stream",
     "text": [
      "+-------+\n",
      "|variety|\n",
      "+-------+\n",
      "| Setosa|\n",
      "| Setosa|\n",
      "| Setosa|\n",
      "| Setosa|\n",
      "| Setosa|\n",
      "| Setosa|\n",
      "| Setosa|\n",
      "| Setosa|\n",
      "| Setosa|\n",
      "| Setosa|\n",
      "| Setosa|\n",
      "| Setosa|\n",
      "| Setosa|\n",
      "| Setosa|\n",
      "| Setosa|\n",
      "| Setosa|\n",
      "| Setosa|\n",
      "| Setosa|\n",
      "| Setosa|\n",
      "| Setosa|\n",
      "+-------+\n",
      "only showing top 20 rows\n",
      "\n"
     ]
    }
   ],
   "source": [
    "df_spark.select('variety').show()"
   ]
  },
  {
   "cell_type": "code",
   "execution_count": 101,
   "metadata": {},
   "outputs": [
    {
     "data": {
      "text/plain": [
       "DataFrame[sepal_length: double, variety: string]"
      ]
     },
     "execution_count": 101,
     "metadata": {},
     "output_type": "execute_result"
    }
   ],
   "source": [
    "df_spark.select(['sepal_length', 'variety'])"
   ]
  },
  {
   "cell_type": "code",
   "execution_count": 102,
   "metadata": {},
   "outputs": [
    {
     "name": "stdout",
     "output_type": "stream",
     "text": [
      "+------------+-------+\n",
      "|sepal_length|variety|\n",
      "+------------+-------+\n",
      "|         5.1| Setosa|\n",
      "|         4.9| Setosa|\n",
      "|         4.7| Setosa|\n",
      "|         4.6| Setosa|\n",
      "|         5.0| Setosa|\n",
      "|         5.4| Setosa|\n",
      "|         4.6| Setosa|\n",
      "|         5.0| Setosa|\n",
      "|         4.4| Setosa|\n",
      "|         4.9| Setosa|\n",
      "|         5.4| Setosa|\n",
      "|         4.8| Setosa|\n",
      "|         4.8| Setosa|\n",
      "|         4.3| Setosa|\n",
      "|         5.8| Setosa|\n",
      "|         5.7| Setosa|\n",
      "|         5.4| Setosa|\n",
      "|         5.1| Setosa|\n",
      "|         5.7| Setosa|\n",
      "|         5.1| Setosa|\n",
      "+------------+-------+\n",
      "only showing top 20 rows\n",
      "\n"
     ]
    }
   ],
   "source": [
    "df_spark.select(['sepal_length', 'variety']).show()"
   ]
  },
  {
   "cell_type": "code",
   "execution_count": 103,
   "metadata": {},
   "outputs": [
    {
     "data": {
      "text/plain": [
       "Column<'variety'>"
      ]
     },
     "execution_count": 103,
     "metadata": {},
     "output_type": "execute_result"
    }
   ],
   "source": [
    "df_spark.variety"
   ]
  },
  {
   "cell_type": "code",
   "execution_count": 104,
   "metadata": {},
   "outputs": [
    {
     "data": {
      "text/plain": [
       "[('sepal_length', 'double'),\n",
       " ('sepal_width', 'double'),\n",
       " ('petal_length', 'double'),\n",
       " ('petal_width', 'double'),\n",
       " ('variety', 'string')]"
      ]
     },
     "execution_count": 104,
     "metadata": {},
     "output_type": "execute_result"
    }
   ],
   "source": [
    "df_spark.dtypes"
   ]
  },
  {
   "cell_type": "markdown",
   "metadata": {},
   "source": [
    "### Describe Dataframe"
   ]
  },
  {
   "cell_type": "code",
   "execution_count": 105,
   "metadata": {},
   "outputs": [
    {
     "data": {
      "text/plain": [
       "DataFrame[summary: string, sepal_length: string, sepal_width: string, petal_length: string, petal_width: string, variety: string]"
      ]
     },
     "execution_count": 105,
     "metadata": {},
     "output_type": "execute_result"
    }
   ],
   "source": [
    "df_spark.describe()"
   ]
  },
  {
   "cell_type": "code",
   "execution_count": 106,
   "metadata": {},
   "outputs": [
    {
     "name": "stdout",
     "output_type": "stream",
     "text": [
      "+-------+------------------+-------------------+------------------+------------------+---------+\n",
      "|summary|      sepal_length|        sepal_width|      petal_length|       petal_width|  variety|\n",
      "+-------+------------------+-------------------+------------------+------------------+---------+\n",
      "|  count|               150|                150|               150|               150|      150|\n",
      "|   mean| 5.843333333333335|  3.057333333333334|3.7580000000000027| 1.199333333333334|     null|\n",
      "| stddev|0.8280661279778637|0.43586628493669793|1.7652982332594662|0.7622376689603467|     null|\n",
      "|    min|               4.3|                2.0|               1.0|               0.1|   Setosa|\n",
      "|    max|               7.9|                4.4|               6.9|               2.5|Virginica|\n",
      "+-------+------------------+-------------------+------------------+------------------+---------+\n",
      "\n"
     ]
    }
   ],
   "source": [
    "df_spark.describe().show()"
   ]
  },
  {
   "cell_type": "markdown",
   "metadata": {},
   "source": [
    "### Add columns"
   ]
  },
  {
   "cell_type": "code",
   "execution_count": 107,
   "metadata": {},
   "outputs": [
    {
     "data": {
      "text/plain": [
       "DataFrame[sepal_length: double, sepal_width: double, petal_length: double, petal_width: double, variety: string, sepal: double]"
      ]
     },
     "execution_count": 107,
     "metadata": {},
     "output_type": "execute_result"
    }
   ],
   "source": [
    "df_spark.withColumn('sepal', (df_spark['sepal_length'] + df_spark['sepal_width'])/2)"
   ]
  },
  {
   "cell_type": "code",
   "execution_count": 108,
   "metadata": {},
   "outputs": [
    {
     "name": "stdout",
     "output_type": "stream",
     "text": [
      "+------------+-----------+------------+-----------+-------+------------------+\n",
      "|sepal_length|sepal_width|petal_length|petal_width|variety|             sepal|\n",
      "+------------+-----------+------------+-----------+-------+------------------+\n",
      "|         5.1|        3.5|         1.4|        0.2| Setosa|               4.3|\n",
      "|         4.9|        3.0|         1.4|        0.2| Setosa|              3.95|\n",
      "|         4.7|        3.2|         1.3|        0.2| Setosa|              3.95|\n",
      "|         4.6|        3.1|         1.5|        0.2| Setosa|3.8499999999999996|\n",
      "|         5.0|        3.6|         1.4|        0.2| Setosa|               4.3|\n",
      "|         5.4|        3.9|         1.7|        0.4| Setosa|              4.65|\n",
      "|         4.6|        3.4|         1.4|        0.3| Setosa|               4.0|\n",
      "|         5.0|        3.4|         1.5|        0.2| Setosa|               4.2|\n",
      "|         4.4|        2.9|         1.4|        0.2| Setosa|3.6500000000000004|\n",
      "|         4.9|        3.1|         1.5|        0.1| Setosa|               4.0|\n",
      "|         5.4|        3.7|         1.5|        0.2| Setosa| 4.550000000000001|\n",
      "|         4.8|        3.4|         1.6|        0.2| Setosa|               4.1|\n",
      "|         4.8|        3.0|         1.4|        0.1| Setosa|               3.9|\n",
      "|         4.3|        3.0|         1.1|        0.1| Setosa|              3.65|\n",
      "|         5.8|        4.0|         1.2|        0.2| Setosa|               4.9|\n",
      "|         5.7|        4.4|         1.5|        0.4| Setosa| 5.050000000000001|\n",
      "|         5.4|        3.9|         1.3|        0.4| Setosa|              4.65|\n",
      "|         5.1|        3.5|         1.4|        0.3| Setosa|               4.3|\n",
      "|         5.7|        3.8|         1.7|        0.3| Setosa|              4.75|\n",
      "|         5.1|        3.8|         1.5|        0.3| Setosa| 4.449999999999999|\n",
      "+------------+-----------+------------+-----------+-------+------------------+\n",
      "only showing top 20 rows\n",
      "\n"
     ]
    }
   ],
   "source": [
    "df_spark.withColumn('sepal', (df_spark['sepal_length'] + df_spark['sepal_width'])/2).show()"
   ]
  },
  {
   "cell_type": "markdown",
   "metadata": {},
   "source": [
    "### Drop columns"
   ]
  },
  {
   "cell_type": "code",
   "execution_count": 109,
   "metadata": {},
   "outputs": [],
   "source": [
    "df_spark = df_spark.withColumn('sepal', (df_spark['sepal_length'] + df_spark['sepal_width'])/2)"
   ]
  },
  {
   "cell_type": "code",
   "execution_count": 110,
   "metadata": {},
   "outputs": [
    {
     "name": "stdout",
     "output_type": "stream",
     "text": [
      "+------------+-----------+------------+-----------+-------+------------------+\n",
      "|sepal_length|sepal_width|petal_length|petal_width|variety|             sepal|\n",
      "+------------+-----------+------------+-----------+-------+------------------+\n",
      "|         5.1|        3.5|         1.4|        0.2| Setosa|               4.3|\n",
      "|         4.9|        3.0|         1.4|        0.2| Setosa|              3.95|\n",
      "|         4.7|        3.2|         1.3|        0.2| Setosa|              3.95|\n",
      "|         4.6|        3.1|         1.5|        0.2| Setosa|3.8499999999999996|\n",
      "|         5.0|        3.6|         1.4|        0.2| Setosa|               4.3|\n",
      "|         5.4|        3.9|         1.7|        0.4| Setosa|              4.65|\n",
      "|         4.6|        3.4|         1.4|        0.3| Setosa|               4.0|\n",
      "|         5.0|        3.4|         1.5|        0.2| Setosa|               4.2|\n",
      "|         4.4|        2.9|         1.4|        0.2| Setosa|3.6500000000000004|\n",
      "|         4.9|        3.1|         1.5|        0.1| Setosa|               4.0|\n",
      "|         5.4|        3.7|         1.5|        0.2| Setosa| 4.550000000000001|\n",
      "|         4.8|        3.4|         1.6|        0.2| Setosa|               4.1|\n",
      "|         4.8|        3.0|         1.4|        0.1| Setosa|               3.9|\n",
      "|         4.3|        3.0|         1.1|        0.1| Setosa|              3.65|\n",
      "|         5.8|        4.0|         1.2|        0.2| Setosa|               4.9|\n",
      "|         5.7|        4.4|         1.5|        0.4| Setosa| 5.050000000000001|\n",
      "|         5.4|        3.9|         1.3|        0.4| Setosa|              4.65|\n",
      "|         5.1|        3.5|         1.4|        0.3| Setosa|               4.3|\n",
      "|         5.7|        3.8|         1.7|        0.3| Setosa|              4.75|\n",
      "|         5.1|        3.8|         1.5|        0.3| Setosa| 4.449999999999999|\n",
      "+------------+-----------+------------+-----------+-------+------------------+\n",
      "only showing top 20 rows\n",
      "\n"
     ]
    }
   ],
   "source": [
    "df_spark.show()"
   ]
  },
  {
   "cell_type": "code",
   "execution_count": 111,
   "metadata": {},
   "outputs": [],
   "source": [
    "df_spark = df_spark.drop('sepal')"
   ]
  },
  {
   "cell_type": "code",
   "execution_count": 112,
   "metadata": {},
   "outputs": [
    {
     "name": "stdout",
     "output_type": "stream",
     "text": [
      "+------------+-----------+------------+-----------+-------+\n",
      "|sepal_length|sepal_width|petal_length|petal_width|variety|\n",
      "+------------+-----------+------------+-----------+-------+\n",
      "|         5.1|        3.5|         1.4|        0.2| Setosa|\n",
      "|         4.9|        3.0|         1.4|        0.2| Setosa|\n",
      "|         4.7|        3.2|         1.3|        0.2| Setosa|\n",
      "|         4.6|        3.1|         1.5|        0.2| Setosa|\n",
      "|         5.0|        3.6|         1.4|        0.2| Setosa|\n",
      "|         5.4|        3.9|         1.7|        0.4| Setosa|\n",
      "|         4.6|        3.4|         1.4|        0.3| Setosa|\n",
      "|         5.0|        3.4|         1.5|        0.2| Setosa|\n",
      "|         4.4|        2.9|         1.4|        0.2| Setosa|\n",
      "|         4.9|        3.1|         1.5|        0.1| Setosa|\n",
      "|         5.4|        3.7|         1.5|        0.2| Setosa|\n",
      "|         4.8|        3.4|         1.6|        0.2| Setosa|\n",
      "|         4.8|        3.0|         1.4|        0.1| Setosa|\n",
      "|         4.3|        3.0|         1.1|        0.1| Setosa|\n",
      "|         5.8|        4.0|         1.2|        0.2| Setosa|\n",
      "|         5.7|        4.4|         1.5|        0.4| Setosa|\n",
      "|         5.4|        3.9|         1.3|        0.4| Setosa|\n",
      "|         5.1|        3.5|         1.4|        0.3| Setosa|\n",
      "|         5.7|        3.8|         1.7|        0.3| Setosa|\n",
      "|         5.1|        3.8|         1.5|        0.3| Setosa|\n",
      "+------------+-----------+------------+-----------+-------+\n",
      "only showing top 20 rows\n",
      "\n"
     ]
    }
   ],
   "source": [
    "df_spark.show()"
   ]
  },
  {
   "cell_type": "markdown",
   "metadata": {},
   "source": [
    "### Rename columns"
   ]
  },
  {
   "cell_type": "code",
   "execution_count": 114,
   "metadata": {},
   "outputs": [
    {
     "data": {
      "text/plain": [
       "DataFrame[sepal_length: double, sepal_width: double, petal_length: double, petal_width: double, class: string]"
      ]
     },
     "execution_count": 114,
     "metadata": {},
     "output_type": "execute_result"
    }
   ],
   "source": [
    "df_spark.withColumnRenamed('variety', 'class')"
   ]
  },
  {
   "cell_type": "code",
   "execution_count": 115,
   "metadata": {},
   "outputs": [
    {
     "name": "stdout",
     "output_type": "stream",
     "text": [
      "+------------+-----------+------------+-----------+------+\n",
      "|sepal_length|sepal_width|petal_length|petal_width| class|\n",
      "+------------+-----------+------------+-----------+------+\n",
      "|         5.1|        3.5|         1.4|        0.2|Setosa|\n",
      "|         4.9|        3.0|         1.4|        0.2|Setosa|\n",
      "|         4.7|        3.2|         1.3|        0.2|Setosa|\n",
      "|         4.6|        3.1|         1.5|        0.2|Setosa|\n",
      "|         5.0|        3.6|         1.4|        0.2|Setosa|\n",
      "|         5.4|        3.9|         1.7|        0.4|Setosa|\n",
      "|         4.6|        3.4|         1.4|        0.3|Setosa|\n",
      "|         5.0|        3.4|         1.5|        0.2|Setosa|\n",
      "|         4.4|        2.9|         1.4|        0.2|Setosa|\n",
      "|         4.9|        3.1|         1.5|        0.1|Setosa|\n",
      "|         5.4|        3.7|         1.5|        0.2|Setosa|\n",
      "|         4.8|        3.4|         1.6|        0.2|Setosa|\n",
      "|         4.8|        3.0|         1.4|        0.1|Setosa|\n",
      "|         4.3|        3.0|         1.1|        0.1|Setosa|\n",
      "|         5.8|        4.0|         1.2|        0.2|Setosa|\n",
      "|         5.7|        4.4|         1.5|        0.4|Setosa|\n",
      "|         5.4|        3.9|         1.3|        0.4|Setosa|\n",
      "|         5.1|        3.5|         1.4|        0.3|Setosa|\n",
      "|         5.7|        3.8|         1.7|        0.3|Setosa|\n",
      "|         5.1|        3.8|         1.5|        0.3|Setosa|\n",
      "+------------+-----------+------------+-----------+------+\n",
      "only showing top 20 rows\n",
      "\n"
     ]
    }
   ],
   "source": [
    "df_spark.withColumnRenamed('variety', 'class').show()"
   ]
  },
  {
   "cell_type": "markdown",
   "metadata": {},
   "source": [
    "## 5. Missing Value"
   ]
  },
  {
   "cell_type": "code",
   "execution_count": 128,
   "metadata": {},
   "outputs": [],
   "source": [
    "df_spark = spark.read.csv('data/test2.csv', header=True, inferSchema=True)"
   ]
  },
  {
   "cell_type": "code",
   "execution_count": 129,
   "metadata": {},
   "outputs": [
    {
     "name": "stdout",
     "output_type": "stream",
     "text": [
      "root\n",
      " |-- Name: string (nullable = true)\n",
      " |-- Age: integer (nullable = true)\n",
      " |-- Year: integer (nullable = true)\n",
      " |-- Salary: integer (nullable = true)\n",
      "\n"
     ]
    }
   ],
   "source": [
    "df_spark.printSchema()"
   ]
  },
  {
   "cell_type": "code",
   "execution_count": 130,
   "metadata": {},
   "outputs": [
    {
     "name": "stdout",
     "output_type": "stream",
     "text": [
      "+--------+----+----+------+\n",
      "|    Name| Age|Year|Salary|\n",
      "+--------+----+----+------+\n",
      "|   Marco|  35|   1| 30000|\n",
      "|Giovanni|  37|   6| 35000|\n",
      "|    Luca|  24|null| 12000|\n",
      "|   Bruno|null|   5| 76000|\n",
      "|    null|  18|null| 32000|\n",
      "|   Italo|  22|   3| 27000|\n",
      "|  Giaomo|null|null|  null|\n",
      "| Alfonso|null|null| 11000|\n",
      "+--------+----+----+------+\n",
      "\n"
     ]
    }
   ],
   "source": [
    "df_spark.show()"
   ]
  },
  {
   "cell_type": "markdown",
   "metadata": {},
   "source": [
    "### Drop rows with at least 1 null"
   ]
  },
  {
   "cell_type": "code",
   "execution_count": 131,
   "metadata": {},
   "outputs": [
    {
     "name": "stdout",
     "output_type": "stream",
     "text": [
      "+--------+---+----+------+\n",
      "|    Name|Age|Year|Salary|\n",
      "+--------+---+----+------+\n",
      "|   Marco| 35|   1| 30000|\n",
      "|Giovanni| 37|   6| 35000|\n",
      "|   Italo| 22|   3| 27000|\n",
      "+--------+---+----+------+\n",
      "\n"
     ]
    }
   ],
   "source": [
    "df_spark.na.drop().show()"
   ]
  },
  {
   "cell_type": "markdown",
   "metadata": {},
   "source": [
    "### Save rows with at least N non-Null values"
   ]
  },
  {
   "cell_type": "code",
   "execution_count": 136,
   "metadata": {},
   "outputs": [
    {
     "name": "stdout",
     "output_type": "stream",
     "text": [
      "+--------+----+----+------+\n",
      "|    Name| Age|Year|Salary|\n",
      "+--------+----+----+------+\n",
      "|   Marco|  35|   1| 30000|\n",
      "|Giovanni|  37|   6| 35000|\n",
      "|    Luca|  24|null| 12000|\n",
      "|   Bruno|null|   5| 76000|\n",
      "|    null|  18|null| 32000|\n",
      "|   Italo|  22|   3| 27000|\n",
      "| Alfonso|null|null| 11000|\n",
      "+--------+----+----+------+\n",
      "\n"
     ]
    }
   ],
   "source": [
    "df_spark.na.drop(thresh=2).show()"
   ]
  },
  {
   "cell_type": "code",
   "execution_count": 137,
   "metadata": {},
   "outputs": [
    {
     "name": "stdout",
     "output_type": "stream",
     "text": [
      "+--------+----+----+------+\n",
      "|    Name| Age|Year|Salary|\n",
      "+--------+----+----+------+\n",
      "|   Marco|  35|   1| 30000|\n",
      "|Giovanni|  37|   6| 35000|\n",
      "|    Luca|  24|null| 12000|\n",
      "|   Bruno|null|   5| 76000|\n",
      "|   Italo|  22|   3| 27000|\n",
      "+--------+----+----+------+\n",
      "\n"
     ]
    }
   ],
   "source": [
    "df_spark.na.drop(thresh=3).show()"
   ]
  },
  {
   "cell_type": "markdown",
   "metadata": {},
   "source": [
    "### Drop Null for specific columns"
   ]
  },
  {
   "cell_type": "code",
   "execution_count": 140,
   "metadata": {},
   "outputs": [
    {
     "name": "stdout",
     "output_type": "stream",
     "text": [
      "+--------+----+----+------+\n",
      "|    Name| Age|Year|Salary|\n",
      "+--------+----+----+------+\n",
      "|   Marco|  35|   1| 30000|\n",
      "|Giovanni|  37|   6| 35000|\n",
      "|    Luca|  24|null| 12000|\n",
      "|   Bruno|null|   5| 76000|\n",
      "|   Italo|  22|   3| 27000|\n",
      "| Alfonso|null|null| 11000|\n",
      "+--------+----+----+------+\n",
      "\n"
     ]
    }
   ],
   "source": [
    "df_spark.na.drop(subset=['Name', 'Salary']).show()"
   ]
  },
  {
   "cell_type": "code",
   "execution_count": 141,
   "metadata": {},
   "outputs": [
    {
     "name": "stdout",
     "output_type": "stream",
     "text": [
      "+--------+----+----+------+\n",
      "|    Name| Age|Year|Salary|\n",
      "+--------+----+----+------+\n",
      "|   Marco|  35|   1| 30000|\n",
      "|Giovanni|  37|   6| 35000|\n",
      "|    Luca|  24|null| 12000|\n",
      "|   Bruno|null|   5| 76000|\n",
      "|   Italo|  22|   3| 27000|\n",
      "| Giacomo|null|null|  null|\n",
      "| Alfonso|null|null| 11000|\n",
      "+--------+----+----+------+\n",
      "\n"
     ]
    }
   ],
   "source": [
    "df_spark.na.drop(subset='Name').show()"
   ]
  },
  {
   "cell_type": "markdown",
   "metadata": {},
   "source": [
    "### Fill NA"
   ]
  },
  {
   "cell_type": "code",
   "execution_count": 150,
   "metadata": {},
   "outputs": [
    {
     "name": "stdout",
     "output_type": "stream",
     "text": [
      "+--------+------+------+------+\n",
      "|    Name|   Age|  Year|Salary|\n",
      "+--------+------+------+------+\n",
      "|   Marco|    35|     1| 30000|\n",
      "|Giovanni|    37|     6| 35000|\n",
      "|    Luca|    24|999999| 12000|\n",
      "|   Bruno|999999|     5| 76000|\n",
      "|    null|    18|999999| 32000|\n",
      "|   Italo|    22|     3| 27000|\n",
      "| Giacomo|999999|999999|999999|\n",
      "| Alfonso|999999|999999| 11000|\n",
      "+--------+------+------+------+\n",
      "\n"
     ]
    }
   ],
   "source": [
    "df_spark.na.fill(999999).show()"
   ]
  },
  {
   "cell_type": "code",
   "execution_count": 147,
   "metadata": {},
   "outputs": [
    {
     "name": "stdout",
     "output_type": "stream",
     "text": [
      "+-----------+----+----+------+\n",
      "|       Name| Age|Year|Salary|\n",
      "+-----------+----+----+------+\n",
      "|      Marco|  35|   1| 30000|\n",
      "|   Giovanni|  37|   6| 35000|\n",
      "|       Luca|  24|null| 12000|\n",
      "|      Bruno|null|   5| 76000|\n",
      "|Sconosciuto|  18|null| 32000|\n",
      "|      Italo|  22|   3| 27000|\n",
      "|    Giacomo|null|null|  null|\n",
      "|    Alfonso|null|null| 11000|\n",
      "+-----------+----+----+------+\n",
      "\n"
     ]
    }
   ],
   "source": [
    "df_spark.na.fill('Sconosciuto').show()"
   ]
  },
  {
   "cell_type": "code",
   "execution_count": 151,
   "metadata": {},
   "outputs": [
    {
     "name": "stdout",
     "output_type": "stream",
     "text": [
      "+-----------+----+----+------+\n",
      "|       Name| Age|Year|Salary|\n",
      "+-----------+----+----+------+\n",
      "|      Marco|  35|   1| 30000|\n",
      "|   Giovanni|  37|   6| 35000|\n",
      "|       Luca|  24|   0| 12000|\n",
      "|      Bruno|null|   5| 76000|\n",
      "|Sconosciuto|  18|   0| 32000|\n",
      "|      Italo|  22|   3| 27000|\n",
      "|    Giacomo|null|   0|  null|\n",
      "|    Alfonso|null|   0| 11000|\n",
      "+-----------+----+----+------+\n",
      "\n"
     ]
    }
   ],
   "source": [
    "df_spark.na.fill({'Name': 'Sconosciuto', 'Age': 'missing', 'Year': 0}).show()"
   ]
  },
  {
   "cell_type": "markdown",
   "metadata": {},
   "source": [
    "### Fill NA with mean/median"
   ]
  },
  {
   "cell_type": "code",
   "execution_count": 169,
   "metadata": {},
   "outputs": [
    {
     "name": "stdout",
     "output_type": "stream",
     "text": [
      "+--------+----+----+------+-----------+------------+--------------+\n",
      "|    Name| Age|Year|Salary|Age_imputed|Year_imputed|Salary_imputed|\n",
      "+--------+----+----+------+-----------+------------+--------------+\n",
      "|   Marco|  35|   1| 30000|         35|           1|         30000|\n",
      "|Giovanni|  37|   6| 35000|         37|           6|         35000|\n",
      "|    Luca|  24|null| 12000|         24|           3|         12000|\n",
      "|   Bruno|null|   5| 76000|         27|           5|         76000|\n",
      "|    null|  18|null| 32000|         18|           3|         32000|\n",
      "|   Italo|  22|   3| 27000|         22|           3|         27000|\n",
      "| Giacomo|null|null|  null|         27|           3|         31857|\n",
      "| Alfonso|null|null| 11000|         27|           3|         11000|\n",
      "+--------+----+----+------+-----------+------------+--------------+\n",
      "\n"
     ]
    }
   ],
   "source": [
    "from pyspark.ml.feature import Imputer\n",
    "\n",
    "imputer = Imputer(\n",
    "    inputCols = ['Age', 'Year', 'Salary'],\n",
    "    outputCols = [f\"{i}_imputed\" for i in input_cols]\n",
    ").setStrategy('mean')\n",
    "\n",
    "imputer.fit(df_spark).transform(df_spark).show()"
   ]
  },
  {
   "cell_type": "code",
   "execution_count": 170,
   "metadata": {},
   "outputs": [
    {
     "name": "stdout",
     "output_type": "stream",
     "text": [
      "+--------+----+----+------+-----------+------------+--------------+\n",
      "|    Name| Age|Year|Salary|Age_imputed|Year_imputed|Salary_imputed|\n",
      "+--------+----+----+------+-----------+------------+--------------+\n",
      "|   Marco|  35|   1| 30000|         35|           1|         30000|\n",
      "|Giovanni|  37|   6| 35000|         37|           6|         35000|\n",
      "|    Luca|  24|null| 12000|         24|           3|         12000|\n",
      "|   Bruno|null|   5| 76000|         24|           5|         76000|\n",
      "|    null|  18|null| 32000|         18|           3|         32000|\n",
      "|   Italo|  22|   3| 27000|         22|           3|         27000|\n",
      "| Giacomo|null|null|  null|         24|           3|         30000|\n",
      "| Alfonso|null|null| 11000|         24|           3|         11000|\n",
      "+--------+----+----+------+-----------+------------+--------------+\n",
      "\n"
     ]
    }
   ],
   "source": [
    "imputer = Imputer(\n",
    "    inputCols = ['Age', 'Year', 'Salary'],\n",
    "    outputCols = [f\"{i}_imputed\" for i in input_cols]\n",
    ").setStrategy('median')\n",
    "\n",
    "imputer.fit(df_spark).transform(df_spark).show()"
   ]
  },
  {
   "cell_type": "markdown",
   "metadata": {},
   "source": [
    "### Filter Dataframe\n",
    "* Fitler operation\n",
    "* &, |, ==\n",
    "* ~"
   ]
  },
  {
   "cell_type": "code",
   "execution_count": 173,
   "metadata": {},
   "outputs": [],
   "source": [
    "df_spark = spark.read.csv('data/iris.csv', header=True, inferSchema=True)"
   ]
  },
  {
   "cell_type": "code",
   "execution_count": 174,
   "metadata": {},
   "outputs": [
    {
     "name": "stdout",
     "output_type": "stream",
     "text": [
      "+------------+-----------+------------+-----------+-------+\n",
      "|sepal_length|sepal_width|petal_length|petal_width|variety|\n",
      "+------------+-----------+------------+-----------+-------+\n",
      "|         5.1|        3.5|         1.4|        0.2| Setosa|\n",
      "|         4.9|        3.0|         1.4|        0.2| Setosa|\n",
      "|         4.7|        3.2|         1.3|        0.2| Setosa|\n",
      "|         4.6|        3.1|         1.5|        0.2| Setosa|\n",
      "|         5.0|        3.6|         1.4|        0.2| Setosa|\n",
      "|         5.4|        3.9|         1.7|        0.4| Setosa|\n",
      "|         4.6|        3.4|         1.4|        0.3| Setosa|\n",
      "|         5.0|        3.4|         1.5|        0.2| Setosa|\n",
      "|         4.4|        2.9|         1.4|        0.2| Setosa|\n",
      "|         4.9|        3.1|         1.5|        0.1| Setosa|\n",
      "|         5.4|        3.7|         1.5|        0.2| Setosa|\n",
      "|         4.8|        3.4|         1.6|        0.2| Setosa|\n",
      "|         4.8|        3.0|         1.4|        0.1| Setosa|\n",
      "|         4.3|        3.0|         1.1|        0.1| Setosa|\n",
      "|         5.8|        4.0|         1.2|        0.2| Setosa|\n",
      "|         5.7|        4.4|         1.5|        0.4| Setosa|\n",
      "|         5.4|        3.9|         1.3|        0.4| Setosa|\n",
      "|         5.1|        3.5|         1.4|        0.3| Setosa|\n",
      "|         5.7|        3.8|         1.7|        0.3| Setosa|\n",
      "|         5.1|        3.8|         1.5|        0.3| Setosa|\n",
      "+------------+-----------+------------+-----------+-------+\n",
      "only showing top 20 rows\n",
      "\n"
     ]
    }
   ],
   "source": [
    "df_spark.show()"
   ]
  },
  {
   "cell_type": "code",
   "execution_count": 187,
   "metadata": {},
   "outputs": [
    {
     "name": "stdout",
     "output_type": "stream",
     "text": [
      "+------------+-----------+------------+-----------+-------+\n",
      "|sepal_length|sepal_width|petal_length|petal_width|variety|\n",
      "+------------+-----------+------------+-----------+-------+\n",
      "|         4.4|        2.9|         1.4|        0.2| Setosa|\n",
      "|         4.3|        3.0|         1.1|        0.1| Setosa|\n",
      "|         4.4|        3.0|         1.3|        0.2| Setosa|\n",
      "|         4.4|        3.2|         1.3|        0.2| Setosa|\n",
      "+------------+-----------+------------+-----------+-------+\n",
      "\n"
     ]
    }
   ],
   "source": [
    "df_spark.filter('sepal_length<4.5').show()"
   ]
  },
  {
   "cell_type": "code",
   "execution_count": 177,
   "metadata": {},
   "outputs": [
    {
     "name": "stdout",
     "output_type": "stream",
     "text": [
      "+------------+-----------+------------+-----------+----------+\n",
      "|sepal_length|sepal_width|petal_length|petal_width|   variety|\n",
      "+------------+-----------+------------+-----------+----------+\n",
      "|         7.0|        3.2|         4.7|        1.4|Versicolor|\n",
      "|         6.4|        3.2|         4.5|        1.5|Versicolor|\n",
      "|         6.9|        3.1|         4.9|        1.5|Versicolor|\n",
      "|         5.5|        2.3|         4.0|        1.3|Versicolor|\n",
      "|         6.5|        2.8|         4.6|        1.5|Versicolor|\n",
      "|         5.7|        2.8|         4.5|        1.3|Versicolor|\n",
      "|         6.3|        3.3|         4.7|        1.6|Versicolor|\n",
      "|         4.9|        2.4|         3.3|        1.0|Versicolor|\n",
      "|         6.6|        2.9|         4.6|        1.3|Versicolor|\n",
      "|         5.2|        2.7|         3.9|        1.4|Versicolor|\n",
      "|         5.0|        2.0|         3.5|        1.0|Versicolor|\n",
      "|         5.9|        3.0|         4.2|        1.5|Versicolor|\n",
      "|         6.0|        2.2|         4.0|        1.0|Versicolor|\n",
      "|         6.1|        2.9|         4.7|        1.4|Versicolor|\n",
      "|         5.6|        2.9|         3.6|        1.3|Versicolor|\n",
      "|         6.7|        3.1|         4.4|        1.4|Versicolor|\n",
      "|         5.6|        3.0|         4.5|        1.5|Versicolor|\n",
      "|         5.8|        2.7|         4.1|        1.0|Versicolor|\n",
      "|         6.2|        2.2|         4.5|        1.5|Versicolor|\n",
      "|         5.6|        2.5|         3.9|        1.1|Versicolor|\n",
      "+------------+-----------+------------+-----------+----------+\n",
      "only showing top 20 rows\n",
      "\n"
     ]
    }
   ],
   "source": [
    "df_spark[df_spark['variety']=='Versicolor'].show()"
   ]
  },
  {
   "cell_type": "code",
   "execution_count": 192,
   "metadata": {},
   "outputs": [
    {
     "name": "stdout",
     "output_type": "stream",
     "text": [
      "+------------+-----------+------------+-----------+----------+\n",
      "|sepal_length|sepal_width|petal_length|petal_width|   variety|\n",
      "+------------+-----------+------------+-----------+----------+\n",
      "|         4.9|        3.0|         1.4|        0.2|    Setosa|\n",
      "|         4.9|        3.1|         1.5|        0.1|    Setosa|\n",
      "|         4.8|        3.4|         1.6|        0.2|    Setosa|\n",
      "|         4.8|        3.0|         1.4|        0.1|    Setosa|\n",
      "|         4.8|        3.4|         1.9|        0.2|    Setosa|\n",
      "|         4.8|        3.1|         1.6|        0.2|    Setosa|\n",
      "|         4.9|        3.1|         1.5|        0.2|    Setosa|\n",
      "|         4.9|        3.6|         1.4|        0.1|    Setosa|\n",
      "|         4.8|        3.0|         1.4|        0.3|    Setosa|\n",
      "|         4.9|        2.4|         3.3|        1.0|Versicolor|\n",
      "|         4.9|        2.5|         4.5|        1.7| Virginica|\n",
      "+------------+-----------+------------+-----------+----------+\n",
      "\n"
     ]
    }
   ],
   "source": [
    "df_spark.filter((df_spark['sepal_length']<5) & \n",
    "                (df_spark['sepal_length']>4.7)).show()"
   ]
  },
  {
   "cell_type": "code",
   "execution_count": 195,
   "metadata": {},
   "outputs": [
    {
     "name": "stdout",
     "output_type": "stream",
     "text": [
      "+------------+-----------+------------+-----------+----------+\n",
      "|sepal_length|sepal_width|petal_length|petal_width|   variety|\n",
      "+------------+-----------+------------+-----------+----------+\n",
      "|         7.0|        3.2|         4.7|        1.4|Versicolor|\n",
      "|         7.1|        3.0|         5.9|        2.1| Virginica|\n",
      "|         7.6|        3.0|         6.6|        2.1| Virginica|\n",
      "|         7.3|        2.9|         6.3|        1.8| Virginica|\n",
      "|         7.2|        3.6|         6.1|        2.5| Virginica|\n",
      "|         7.7|        3.8|         6.7|        2.2| Virginica|\n",
      "|         7.7|        2.6|         6.9|        2.3| Virginica|\n",
      "|         7.7|        2.8|         6.7|        2.0| Virginica|\n",
      "|         7.2|        3.2|         6.0|        1.8| Virginica|\n",
      "|         7.2|        3.0|         5.8|        1.6| Virginica|\n",
      "|         7.4|        2.8|         6.1|        1.9| Virginica|\n",
      "|         7.9|        3.8|         6.4|        2.0| Virginica|\n",
      "|         7.7|        3.0|         6.1|        2.3| Virginica|\n",
      "+------------+-----------+------------+-----------+----------+\n",
      "\n"
     ]
    }
   ],
   "source": [
    "df_spark.filter(~(df_spark['sepal_length']<7)).show()"
   ]
  },
  {
   "cell_type": "markdown",
   "metadata": {},
   "source": [
    "## 6. GroupBy and Aggregate"
   ]
  },
  {
   "cell_type": "code",
   "execution_count": 197,
   "metadata": {},
   "outputs": [],
   "source": [
    "df_spark = spark.read.csv('data/test3.csv', header=True, inferSchema=True)"
   ]
  },
  {
   "cell_type": "code",
   "execution_count": 198,
   "metadata": {},
   "outputs": [
    {
     "name": "stdout",
     "output_type": "stream",
     "text": [
      "+--------+----+------+\n",
      "|    Name| Job|Salary|\n",
      "+--------+----+------+\n",
      "|   Marco|  DS| 30000|\n",
      "|Giovanni|  DS| 35000|\n",
      "|    Luca|  DA| 12000|\n",
      "|   Bruno|  DS| 76000|\n",
      "|Telemaco|  DA| 32000|\n",
      "|   Italo|JrDS| 27000|\n",
      "| Giacomo|JrDS| 11200|\n",
      "| Alfonso|JrDA| 11000|\n",
      "| Rebecca|  DA| 25000|\n",
      "|   Maria|JrDA| 15000|\n",
      "+--------+----+------+\n",
      "\n"
     ]
    }
   ],
   "source": [
    "df_spark.show()"
   ]
  },
  {
   "cell_type": "code",
   "execution_count": 200,
   "metadata": {},
   "outputs": [
    {
     "name": "stdout",
     "output_type": "stream",
     "text": [
      "+----+-----------+\n",
      "| Job|avg(Salary)|\n",
      "+----+-----------+\n",
      "|  DA|    23000.0|\n",
      "|JrDA|    13000.0|\n",
      "|  DS|    47000.0|\n",
      "|JrDS|    19100.0|\n",
      "+----+-----------+\n",
      "\n"
     ]
    }
   ],
   "source": [
    "df_spark.groupBy('Job').mean().show()"
   ]
  },
  {
   "cell_type": "code",
   "execution_count": 201,
   "metadata": {},
   "outputs": [
    {
     "name": "stdout",
     "output_type": "stream",
     "text": [
      "+----+-----+\n",
      "| Job|count|\n",
      "+----+-----+\n",
      "|  DA|    3|\n",
      "|JrDA|    2|\n",
      "|  DS|    3|\n",
      "|JrDS|    2|\n",
      "+----+-----+\n",
      "\n"
     ]
    }
   ],
   "source": [
    "df_spark.groupBy('Job').count().show()"
   ]
  },
  {
   "cell_type": "code",
   "execution_count": 202,
   "metadata": {},
   "outputs": [
    {
     "name": "stdout",
     "output_type": "stream",
     "text": [
      "+----+-----------+\n",
      "| Job|sum(Salary)|\n",
      "+----+-----------+\n",
      "|  DA|      69000|\n",
      "|JrDA|      26000|\n",
      "|  DS|     141000|\n",
      "|JrDS|      38200|\n",
      "+----+-----------+\n",
      "\n"
     ]
    }
   ],
   "source": [
    "df_spark.groupBy('Job').sum().show()"
   ]
  },
  {
   "cell_type": "code",
   "execution_count": 226,
   "metadata": {},
   "outputs": [
    {
     "name": "stdout",
     "output_type": "stream",
     "text": [
      "+----+-----------+\n",
      "| Job|sum(Salary)|\n",
      "+----+-----------+\n",
      "|  DA|      69000|\n",
      "|JrDA|      26000|\n",
      "|  DS|     141000|\n",
      "|JrDS|      38200|\n",
      "+----+-----------+\n",
      "\n"
     ]
    }
   ],
   "source": [
    "df_spark.groupBy('Job').agg({'Salary':'sum'}).show()"
   ]
  },
  {
   "cell_type": "markdown",
   "metadata": {},
   "source": [
    "## 7. Machine learning"
   ]
  },
  {
   "cell_type": "code",
   "execution_count": 228,
   "metadata": {},
   "outputs": [],
   "source": [
    "df_spark = spark.read.csv('data/test4.csv', header=True, inferSchema=True)"
   ]
  },
  {
   "cell_type": "code",
   "execution_count": 229,
   "metadata": {},
   "outputs": [
    {
     "data": {
      "text/plain": [
       "['Name', 'Age', 'Experience', 'Salary']"
      ]
     },
     "execution_count": 229,
     "metadata": {},
     "output_type": "execute_result"
    }
   ],
   "source": [
    "df_spark.columns"
   ]
  },
  {
   "cell_type": "code",
   "execution_count": 231,
   "metadata": {},
   "outputs": [],
   "source": [
    "predictors = ['Age', 'Experience']"
   ]
  },
  {
   "cell_type": "code",
   "execution_count": 235,
   "metadata": {},
   "outputs": [],
   "source": [
    "from pyspark.ml.feature import VectorAssembler\n",
    "featureAssembler = VectorAssembler(inputCols=predictors, outputCol='Independent_predictors')"
   ]
  },
  {
   "cell_type": "code",
   "execution_count": 236,
   "metadata": {},
   "outputs": [],
   "source": [
    "output = featureAssembler.transform(df_spark)"
   ]
  },
  {
   "cell_type": "code",
   "execution_count": 237,
   "metadata": {},
   "outputs": [
    {
     "name": "stdout",
     "output_type": "stream",
     "text": [
      "+--------+---+----------+------+----------------------+\n",
      "|    Name|Age|Experience|Salary|Independent_predictors|\n",
      "+--------+---+----------+------+----------------------+\n",
      "|   Marco| 31|        10| 30000|           [31.0,10.0]|\n",
      "|Giovanni| 30|         8| 25000|            [30.0,8.0]|\n",
      "|    Luca| 29|         4| 20000|            [29.0,4.0]|\n",
      "|   Bruno| 24|         3| 20000|            [24.0,3.0]|\n",
      "|Telemaco| 21|         1| 15000|            [21.0,1.0]|\n",
      "|   Italo| 23|         2| 18000|            [23.0,2.0]|\n",
      "+--------+---+----------+------+----------------------+\n",
      "\n"
     ]
    }
   ],
   "source": [
    "output.show()"
   ]
  },
  {
   "cell_type": "code",
   "execution_count": 239,
   "metadata": {},
   "outputs": [
    {
     "name": "stdout",
     "output_type": "stream",
     "text": [
      "+----------------------+------+\n",
      "|Independent_predictors|Salary|\n",
      "+----------------------+------+\n",
      "|           [31.0,10.0]| 30000|\n",
      "|            [30.0,8.0]| 25000|\n",
      "|            [29.0,4.0]| 20000|\n",
      "|            [24.0,3.0]| 20000|\n",
      "|            [21.0,1.0]| 15000|\n",
      "|            [23.0,2.0]| 18000|\n",
      "+----------------------+------+\n",
      "\n"
     ]
    }
   ],
   "source": [
    "final_df = output.select(['Independent_predictors', 'Salary'])\n",
    "final_df.show()"
   ]
  },
  {
   "cell_type": "markdown",
   "metadata": {},
   "source": [
    "### Linear Regression"
   ]
  },
  {
   "cell_type": "code",
   "execution_count": 242,
   "metadata": {},
   "outputs": [],
   "source": [
    "from pyspark.ml.regression import LinearRegression\n",
    "train_data, test_data = final_df.randomSplit([0.75, 0.25])"
   ]
  },
  {
   "cell_type": "code",
   "execution_count": 243,
   "metadata": {},
   "outputs": [
    {
     "name": "stdout",
     "output_type": "stream",
     "text": [
      "+----------------------+------+\n",
      "|Independent_predictors|Salary|\n",
      "+----------------------+------+\n",
      "|            [24.0,3.0]| 20000|\n",
      "|            [29.0,4.0]| 20000|\n",
      "|            [30.0,8.0]| 25000|\n",
      "|           [31.0,10.0]| 30000|\n",
      "+----------------------+------+\n",
      "\n"
     ]
    }
   ],
   "source": [
    "train_data.show()"
   ]
  },
  {
   "cell_type": "code",
   "execution_count": 244,
   "metadata": {},
   "outputs": [
    {
     "name": "stdout",
     "output_type": "stream",
     "text": [
      "+----------------------+------+\n",
      "|Independent_predictors|Salary|\n",
      "+----------------------+------+\n",
      "|            [21.0,1.0]| 15000|\n",
      "|            [23.0,2.0]| 18000|\n",
      "+----------------------+------+\n",
      "\n"
     ]
    }
   ],
   "source": [
    "test_data.show()"
   ]
  },
  {
   "cell_type": "code",
   "execution_count": 245,
   "metadata": {},
   "outputs": [
    {
     "name": "stderr",
     "output_type": "stream",
     "text": [
      "21/12/26 00:33:12 WARN Instrumentation: [a2b430dc] regParam is zero, which might cause numerical instability and overfitting.\n",
      "21/12/26 00:33:12 WARN InstanceBuilder$NativeBLAS: Failed to load implementation from:dev.ludovic.netlib.blas.JNIBLAS\n",
      "21/12/26 00:33:12 WARN InstanceBuilder$NativeBLAS: Failed to load implementation from:dev.ludovic.netlib.blas.ForeignLinkerBLAS\n",
      "21/12/26 00:33:12 WARN InstanceBuilder$NativeLAPACK: Failed to load implementation from:dev.ludovic.netlib.lapack.JNILAPACK\n"
     ]
    }
   ],
   "source": [
    "regressor = LinearRegression(featuresCol='Independent_predictors', labelCol='Salary')\n",
    "regressor = regressor.fit(train_data)"
   ]
  },
  {
   "cell_type": "code",
   "execution_count": 246,
   "metadata": {},
   "outputs": [
    {
     "data": {
      "text/plain": [
       "DenseVector([-383.9733, 1711.1853])"
      ]
     },
     "execution_count": 246,
     "metadata": {},
     "output_type": "execute_result"
    }
   ],
   "source": [
    "regressor.coefficients"
   ]
  },
  {
   "cell_type": "code",
   "execution_count": 247,
   "metadata": {},
   "outputs": [
    {
     "data": {
      "text/plain": [
       "23998.330550919385"
      ]
     },
     "execution_count": 247,
     "metadata": {},
     "output_type": "execute_result"
    }
   ],
   "source": [
    "regressor.intercept"
   ]
  },
  {
   "cell_type": "code",
   "execution_count": 252,
   "metadata": {},
   "outputs": [],
   "source": [
    "pred_results = regressor.evaluate(test_data)"
   ]
  },
  {
   "cell_type": "code",
   "execution_count": 253,
   "metadata": {},
   "outputs": [
    {
     "name": "stdout",
     "output_type": "stream",
     "text": [
      "+----------------------+------+------------------+\n",
      "|Independent_predictors|Salary|        prediction|\n",
      "+----------------------+------+------------------+\n",
      "|            [21.0,1.0]| 15000| 17646.07679465793|\n",
      "|            [23.0,2.0]| 18000|18589.315525876566|\n",
      "+----------------------+------+------------------+\n",
      "\n"
     ]
    }
   ],
   "source": [
    "pred_results.predictions.show()"
   ]
  },
  {
   "cell_type": "code",
   "execution_count": 254,
   "metadata": {},
   "outputs": [
    {
     "data": {
      "text/plain": [
       "1617.6961602672473"
      ]
     },
     "execution_count": 254,
     "metadata": {},
     "output_type": "execute_result"
    }
   ],
   "source": [
    "pred_results.meanAbsoluteError"
   ]
  },
  {
   "cell_type": "code",
   "execution_count": 255,
   "metadata": {},
   "outputs": [
    {
     "data": {
      "text/plain": [
       "3674507.5961331767"
      ]
     },
     "execution_count": 255,
     "metadata": {},
     "output_type": "execute_result"
    }
   ],
   "source": [
    "pred_results.meanSquaredError"
   ]
  },
  {
   "cell_type": "markdown",
   "metadata": {},
   "source": [
    "### Decision Tree"
   ]
  },
  {
   "cell_type": "code",
   "execution_count": 314,
   "metadata": {},
   "outputs": [],
   "source": [
    "from pyspark.ml import Pipeline\n",
    "from pyspark.ml.classification import DecisionTreeClassifier\n",
    "from pyspark.ml.feature import StringIndexer, VectorIndexer\n",
    "from pyspark.ml.evaluation import MulticlassClassificationEvaluator"
   ]
  },
  {
   "cell_type": "code",
   "execution_count": 315,
   "metadata": {},
   "outputs": [],
   "source": [
    "df_spark = spark.read.csv('data/iris.csv', header=True, inferSchema=True)"
   ]
  },
  {
   "cell_type": "code",
   "execution_count": 316,
   "metadata": {},
   "outputs": [
    {
     "name": "stdout",
     "output_type": "stream",
     "text": [
      "+------------+-----------+------------+-----------+-------+\n",
      "|sepal_length|sepal_width|petal_length|petal_width|variety|\n",
      "+------------+-----------+------------+-----------+-------+\n",
      "|         5.1|        3.5|         1.4|        0.2| Setosa|\n",
      "|         4.9|        3.0|         1.4|        0.2| Setosa|\n",
      "|         4.7|        3.2|         1.3|        0.2| Setosa|\n",
      "|         4.6|        3.1|         1.5|        0.2| Setosa|\n",
      "|         5.0|        3.6|         1.4|        0.2| Setosa|\n",
      "|         5.4|        3.9|         1.7|        0.4| Setosa|\n",
      "|         4.6|        3.4|         1.4|        0.3| Setosa|\n",
      "|         5.0|        3.4|         1.5|        0.2| Setosa|\n",
      "|         4.4|        2.9|         1.4|        0.2| Setosa|\n",
      "|         4.9|        3.1|         1.5|        0.1| Setosa|\n",
      "|         5.4|        3.7|         1.5|        0.2| Setosa|\n",
      "|         4.8|        3.4|         1.6|        0.2| Setosa|\n",
      "|         4.8|        3.0|         1.4|        0.1| Setosa|\n",
      "|         4.3|        3.0|         1.1|        0.1| Setosa|\n",
      "|         5.8|        4.0|         1.2|        0.2| Setosa|\n",
      "|         5.7|        4.4|         1.5|        0.4| Setosa|\n",
      "|         5.4|        3.9|         1.3|        0.4| Setosa|\n",
      "|         5.1|        3.5|         1.4|        0.3| Setosa|\n",
      "|         5.7|        3.8|         1.7|        0.3| Setosa|\n",
      "|         5.1|        3.8|         1.5|        0.3| Setosa|\n",
      "+------------+-----------+------------+-----------+-------+\n",
      "only showing top 20 rows\n",
      "\n"
     ]
    }
   ],
   "source": [
    "df_spark.show()"
   ]
  },
  {
   "cell_type": "code",
   "execution_count": 317,
   "metadata": {},
   "outputs": [],
   "source": [
    "predictors = ['sepal_length','sepal_width','petal_length','petal_width']"
   ]
  },
  {
   "cell_type": "code",
   "execution_count": 318,
   "metadata": {},
   "outputs": [
    {
     "name": "stdout",
     "output_type": "stream",
     "text": [
      "+------------+-----------+------------+-----------+-------+-----------+\n",
      "|sepal_length|sepal_width|petal_length|petal_width|variety|variety_int|\n",
      "+------------+-----------+------------+-----------+-------+-----------+\n",
      "|         5.1|        3.5|         1.4|        0.2| Setosa|        0.0|\n",
      "|         4.9|        3.0|         1.4|        0.2| Setosa|        0.0|\n",
      "|         4.7|        3.2|         1.3|        0.2| Setosa|        0.0|\n",
      "|         4.6|        3.1|         1.5|        0.2| Setosa|        0.0|\n",
      "|         5.0|        3.6|         1.4|        0.2| Setosa|        0.0|\n",
      "|         5.4|        3.9|         1.7|        0.4| Setosa|        0.0|\n",
      "|         4.6|        3.4|         1.4|        0.3| Setosa|        0.0|\n",
      "|         5.0|        3.4|         1.5|        0.2| Setosa|        0.0|\n",
      "|         4.4|        2.9|         1.4|        0.2| Setosa|        0.0|\n",
      "|         4.9|        3.1|         1.5|        0.1| Setosa|        0.0|\n",
      "|         5.4|        3.7|         1.5|        0.2| Setosa|        0.0|\n",
      "|         4.8|        3.4|         1.6|        0.2| Setosa|        0.0|\n",
      "|         4.8|        3.0|         1.4|        0.1| Setosa|        0.0|\n",
      "|         4.3|        3.0|         1.1|        0.1| Setosa|        0.0|\n",
      "|         5.8|        4.0|         1.2|        0.2| Setosa|        0.0|\n",
      "|         5.7|        4.4|         1.5|        0.4| Setosa|        0.0|\n",
      "|         5.4|        3.9|         1.3|        0.4| Setosa|        0.0|\n",
      "|         5.1|        3.5|         1.4|        0.3| Setosa|        0.0|\n",
      "|         5.7|        3.8|         1.7|        0.3| Setosa|        0.0|\n",
      "|         5.1|        3.8|         1.5|        0.3| Setosa|        0.0|\n",
      "+------------+-----------+------------+-----------+-------+-----------+\n",
      "only showing top 20 rows\n",
      "\n"
     ]
    }
   ],
   "source": [
    "df_spark = StringIndexer(inputCol=\"variety\", outputCol=\"variety_int\").fit(df_spark).transform(df_spark)\n",
    "df_spark.show()"
   ]
  },
  {
   "cell_type": "code",
   "execution_count": 319,
   "metadata": {},
   "outputs": [
    {
     "name": "stdout",
     "output_type": "stream",
     "text": [
      "+------------+-----------+------------+-----------+-------+-----------+----------------------+\n",
      "|sepal_length|sepal_width|petal_length|petal_width|variety|variety_int|Independent_predictors|\n",
      "+------------+-----------+------------+-----------+-------+-----------+----------------------+\n",
      "|         5.1|        3.5|         1.4|        0.2| Setosa|        0.0|     [5.1,3.5,1.4,0.2]|\n",
      "|         4.9|        3.0|         1.4|        0.2| Setosa|        0.0|     [4.9,3.0,1.4,0.2]|\n",
      "|         4.7|        3.2|         1.3|        0.2| Setosa|        0.0|     [4.7,3.2,1.3,0.2]|\n",
      "|         4.6|        3.1|         1.5|        0.2| Setosa|        0.0|     [4.6,3.1,1.5,0.2]|\n",
      "|         5.0|        3.6|         1.4|        0.2| Setosa|        0.0|     [5.0,3.6,1.4,0.2]|\n",
      "|         5.4|        3.9|         1.7|        0.4| Setosa|        0.0|     [5.4,3.9,1.7,0.4]|\n",
      "|         4.6|        3.4|         1.4|        0.3| Setosa|        0.0|     [4.6,3.4,1.4,0.3]|\n",
      "|         5.0|        3.4|         1.5|        0.2| Setosa|        0.0|     [5.0,3.4,1.5,0.2]|\n",
      "|         4.4|        2.9|         1.4|        0.2| Setosa|        0.0|     [4.4,2.9,1.4,0.2]|\n",
      "|         4.9|        3.1|         1.5|        0.1| Setosa|        0.0|     [4.9,3.1,1.5,0.1]|\n",
      "|         5.4|        3.7|         1.5|        0.2| Setosa|        0.0|     [5.4,3.7,1.5,0.2]|\n",
      "|         4.8|        3.4|         1.6|        0.2| Setosa|        0.0|     [4.8,3.4,1.6,0.2]|\n",
      "|         4.8|        3.0|         1.4|        0.1| Setosa|        0.0|     [4.8,3.0,1.4,0.1]|\n",
      "|         4.3|        3.0|         1.1|        0.1| Setosa|        0.0|     [4.3,3.0,1.1,0.1]|\n",
      "|         5.8|        4.0|         1.2|        0.2| Setosa|        0.0|     [5.8,4.0,1.2,0.2]|\n",
      "|         5.7|        4.4|         1.5|        0.4| Setosa|        0.0|     [5.7,4.4,1.5,0.4]|\n",
      "|         5.4|        3.9|         1.3|        0.4| Setosa|        0.0|     [5.4,3.9,1.3,0.4]|\n",
      "|         5.1|        3.5|         1.4|        0.3| Setosa|        0.0|     [5.1,3.5,1.4,0.3]|\n",
      "|         5.7|        3.8|         1.7|        0.3| Setosa|        0.0|     [5.7,3.8,1.7,0.3]|\n",
      "|         5.1|        3.8|         1.5|        0.3| Setosa|        0.0|     [5.1,3.8,1.5,0.3]|\n",
      "+------------+-----------+------------+-----------+-------+-----------+----------------------+\n",
      "only showing top 20 rows\n",
      "\n"
     ]
    }
   ],
   "source": [
    "from pyspark.ml.feature import VectorAssembler\n",
    "featureAssembler = VectorAssembler(inputCols=predictors, outputCol='Independent_predictors')\n",
    "df_spark = featureAssembler.transform(df_spark)\n",
    "df_spark.show()"
   ]
  },
  {
   "cell_type": "code",
   "execution_count": 320,
   "metadata": {},
   "outputs": [
    {
     "name": "stdout",
     "output_type": "stream",
     "text": [
      "+----------------------+-----------+\n",
      "|Independent_predictors|variety_int|\n",
      "+----------------------+-----------+\n",
      "|     [5.1,3.5,1.4,0.2]|        0.0|\n",
      "|     [4.9,3.0,1.4,0.2]|        0.0|\n",
      "|     [4.7,3.2,1.3,0.2]|        0.0|\n",
      "|     [4.6,3.1,1.5,0.2]|        0.0|\n",
      "|     [5.0,3.6,1.4,0.2]|        0.0|\n",
      "|     [5.4,3.9,1.7,0.4]|        0.0|\n",
      "|     [4.6,3.4,1.4,0.3]|        0.0|\n",
      "|     [5.0,3.4,1.5,0.2]|        0.0|\n",
      "|     [4.4,2.9,1.4,0.2]|        0.0|\n",
      "|     [4.9,3.1,1.5,0.1]|        0.0|\n",
      "|     [5.4,3.7,1.5,0.2]|        0.0|\n",
      "|     [4.8,3.4,1.6,0.2]|        0.0|\n",
      "|     [4.8,3.0,1.4,0.1]|        0.0|\n",
      "|     [4.3,3.0,1.1,0.1]|        0.0|\n",
      "|     [5.8,4.0,1.2,0.2]|        0.0|\n",
      "|     [5.7,4.4,1.5,0.4]|        0.0|\n",
      "|     [5.4,3.9,1.3,0.4]|        0.0|\n",
      "|     [5.1,3.5,1.4,0.3]|        0.0|\n",
      "|     [5.7,3.8,1.7,0.3]|        0.0|\n",
      "|     [5.1,3.8,1.5,0.3]|        0.0|\n",
      "+----------------------+-----------+\n",
      "only showing top 20 rows\n",
      "\n"
     ]
    }
   ],
   "source": [
    "df_final = df_spark.select(['Independent_predictors', 'variety_int'])\n",
    "df_final.show()"
   ]
  },
  {
   "cell_type": "code",
   "execution_count": 321,
   "metadata": {},
   "outputs": [],
   "source": [
    "dtc = DecisionTreeClassifier(labelCol=\"variety_int\", featuresCol=\"Independent_predictors\")\n",
    "dtc = dtc.fit(df_final)"
   ]
  },
  {
   "cell_type": "code",
   "execution_count": 322,
   "metadata": {},
   "outputs": [
    {
     "name": "stdout",
     "output_type": "stream",
     "text": [
      "+----------------------+-----------+--------------+-------------+----------+\n",
      "|Independent_predictors|variety_int| rawPrediction|  probability|prediction|\n",
      "+----------------------+-----------+--------------+-------------+----------+\n",
      "|     [5.1,3.5,1.4,0.2]|        0.0|[50.0,0.0,0.0]|[1.0,0.0,0.0]|       0.0|\n",
      "|     [4.9,3.0,1.4,0.2]|        0.0|[50.0,0.0,0.0]|[1.0,0.0,0.0]|       0.0|\n",
      "|     [4.7,3.2,1.3,0.2]|        0.0|[50.0,0.0,0.0]|[1.0,0.0,0.0]|       0.0|\n",
      "|     [4.6,3.1,1.5,0.2]|        0.0|[50.0,0.0,0.0]|[1.0,0.0,0.0]|       0.0|\n",
      "|     [5.0,3.6,1.4,0.2]|        0.0|[50.0,0.0,0.0]|[1.0,0.0,0.0]|       0.0|\n",
      "|     [5.4,3.9,1.7,0.4]|        0.0|[50.0,0.0,0.0]|[1.0,0.0,0.0]|       0.0|\n",
      "|     [4.6,3.4,1.4,0.3]|        0.0|[50.0,0.0,0.0]|[1.0,0.0,0.0]|       0.0|\n",
      "|     [5.0,3.4,1.5,0.2]|        0.0|[50.0,0.0,0.0]|[1.0,0.0,0.0]|       0.0|\n",
      "|     [4.4,2.9,1.4,0.2]|        0.0|[50.0,0.0,0.0]|[1.0,0.0,0.0]|       0.0|\n",
      "|     [4.9,3.1,1.5,0.1]|        0.0|[50.0,0.0,0.0]|[1.0,0.0,0.0]|       0.0|\n",
      "|     [5.4,3.7,1.5,0.2]|        0.0|[50.0,0.0,0.0]|[1.0,0.0,0.0]|       0.0|\n",
      "|     [4.8,3.4,1.6,0.2]|        0.0|[50.0,0.0,0.0]|[1.0,0.0,0.0]|       0.0|\n",
      "|     [4.8,3.0,1.4,0.1]|        0.0|[50.0,0.0,0.0]|[1.0,0.0,0.0]|       0.0|\n",
      "|     [4.3,3.0,1.1,0.1]|        0.0|[50.0,0.0,0.0]|[1.0,0.0,0.0]|       0.0|\n",
      "|     [5.8,4.0,1.2,0.2]|        0.0|[50.0,0.0,0.0]|[1.0,0.0,0.0]|       0.0|\n",
      "|     [5.7,4.4,1.5,0.4]|        0.0|[50.0,0.0,0.0]|[1.0,0.0,0.0]|       0.0|\n",
      "|     [5.4,3.9,1.3,0.4]|        0.0|[50.0,0.0,0.0]|[1.0,0.0,0.0]|       0.0|\n",
      "|     [5.1,3.5,1.4,0.3]|        0.0|[50.0,0.0,0.0]|[1.0,0.0,0.0]|       0.0|\n",
      "|     [5.7,3.8,1.7,0.3]|        0.0|[50.0,0.0,0.0]|[1.0,0.0,0.0]|       0.0|\n",
      "|     [5.1,3.8,1.5,0.3]|        0.0|[50.0,0.0,0.0]|[1.0,0.0,0.0]|       0.0|\n",
      "+----------------------+-----------+--------------+-------------+----------+\n",
      "only showing top 20 rows\n",
      "\n"
     ]
    }
   ],
   "source": [
    "df_final = dtc.transform(df_final)\n",
    "df_final.show()"
   ]
  },
  {
   "cell_type": "code",
   "execution_count": 323,
   "metadata": {},
   "outputs": [
    {
     "name": "stdout",
     "output_type": "stream",
     "text": [
      "+----------------------+-----+--------------+-------------+----------+\n",
      "|Independent_predictors|label| rawPrediction|  probability|prediction|\n",
      "+----------------------+-----+--------------+-------------+----------+\n",
      "|     [5.1,3.5,1.4,0.2]|  0.0|[50.0,0.0,0.0]|[1.0,0.0,0.0]|       0.0|\n",
      "|     [4.9,3.0,1.4,0.2]|  0.0|[50.0,0.0,0.0]|[1.0,0.0,0.0]|       0.0|\n",
      "|     [4.7,3.2,1.3,0.2]|  0.0|[50.0,0.0,0.0]|[1.0,0.0,0.0]|       0.0|\n",
      "|     [4.6,3.1,1.5,0.2]|  0.0|[50.0,0.0,0.0]|[1.0,0.0,0.0]|       0.0|\n",
      "|     [5.0,3.6,1.4,0.2]|  0.0|[50.0,0.0,0.0]|[1.0,0.0,0.0]|       0.0|\n",
      "|     [5.4,3.9,1.7,0.4]|  0.0|[50.0,0.0,0.0]|[1.0,0.0,0.0]|       0.0|\n",
      "|     [4.6,3.4,1.4,0.3]|  0.0|[50.0,0.0,0.0]|[1.0,0.0,0.0]|       0.0|\n",
      "|     [5.0,3.4,1.5,0.2]|  0.0|[50.0,0.0,0.0]|[1.0,0.0,0.0]|       0.0|\n",
      "|     [4.4,2.9,1.4,0.2]|  0.0|[50.0,0.0,0.0]|[1.0,0.0,0.0]|       0.0|\n",
      "|     [4.9,3.1,1.5,0.1]|  0.0|[50.0,0.0,0.0]|[1.0,0.0,0.0]|       0.0|\n",
      "|     [5.4,3.7,1.5,0.2]|  0.0|[50.0,0.0,0.0]|[1.0,0.0,0.0]|       0.0|\n",
      "|     [4.8,3.4,1.6,0.2]|  0.0|[50.0,0.0,0.0]|[1.0,0.0,0.0]|       0.0|\n",
      "|     [4.8,3.0,1.4,0.1]|  0.0|[50.0,0.0,0.0]|[1.0,0.0,0.0]|       0.0|\n",
      "|     [4.3,3.0,1.1,0.1]|  0.0|[50.0,0.0,0.0]|[1.0,0.0,0.0]|       0.0|\n",
      "|     [5.8,4.0,1.2,0.2]|  0.0|[50.0,0.0,0.0]|[1.0,0.0,0.0]|       0.0|\n",
      "|     [5.7,4.4,1.5,0.4]|  0.0|[50.0,0.0,0.0]|[1.0,0.0,0.0]|       0.0|\n",
      "|     [5.4,3.9,1.3,0.4]|  0.0|[50.0,0.0,0.0]|[1.0,0.0,0.0]|       0.0|\n",
      "|     [5.1,3.5,1.4,0.3]|  0.0|[50.0,0.0,0.0]|[1.0,0.0,0.0]|       0.0|\n",
      "|     [5.7,3.8,1.7,0.3]|  0.0|[50.0,0.0,0.0]|[1.0,0.0,0.0]|       0.0|\n",
      "|     [5.1,3.8,1.5,0.3]|  0.0|[50.0,0.0,0.0]|[1.0,0.0,0.0]|       0.0|\n",
      "+----------------------+-----+--------------+-------------+----------+\n",
      "only showing top 20 rows\n",
      "\n"
     ]
    }
   ],
   "source": [
    "df_final = df_final.withColumnRenamed('variety_int', 'label')\n",
    "df_final.show()"
   ]
  },
  {
   "cell_type": "code",
   "execution_count": 324,
   "metadata": {},
   "outputs": [],
   "source": [
    "from pyspark.ml.evaluation import MulticlassClassificationEvaluator"
   ]
  },
  {
   "cell_type": "code",
   "execution_count": 325,
   "metadata": {},
   "outputs": [],
   "source": [
    "acc_eval = MulticlassClassificationEvaluator(metricName='accuracy')"
   ]
  },
  {
   "cell_type": "code",
   "execution_count": 326,
   "metadata": {},
   "outputs": [
    {
     "data": {
      "text/plain": [
       "1.0"
      ]
     },
     "execution_count": 326,
     "metadata": {},
     "output_type": "execute_result"
    }
   ],
   "source": [
    "acc_eval.evaluate(df_final)"
   ]
  },
  {
   "cell_type": "code",
   "execution_count": null,
   "metadata": {},
   "outputs": [],
   "source": []
  },
  {
   "cell_type": "code",
   "execution_count": null,
   "metadata": {},
   "outputs": [],
   "source": []
  },
  {
   "cell_type": "code",
   "execution_count": null,
   "metadata": {},
   "outputs": [],
   "source": []
  },
  {
   "cell_type": "code",
   "execution_count": 1,
   "metadata": {},
   "outputs": [
    {
     "ename": "ModuleNotFoundError",
     "evalue": "No module named 'pandas'",
     "output_type": "error",
     "traceback": [
      "\u001b[0;31m---------------------------------------------------------------------------\u001b[0m",
      "\u001b[0;31mModuleNotFoundError\u001b[0m                       Traceback (most recent call last)",
      "\u001b[0;32m/var/folders/0d/9g1khm697bqbncyfq3gmq4tc0000gn/T/ipykernel_87570/4080736814.py\u001b[0m in \u001b[0;36m<module>\u001b[0;34m\u001b[0m\n\u001b[0;32m----> 1\u001b[0;31m \u001b[0;32mimport\u001b[0m \u001b[0mpandas\u001b[0m \u001b[0;32mas\u001b[0m \u001b[0mpd\u001b[0m\u001b[0;34m\u001b[0m\u001b[0;34m\u001b[0m\u001b[0m\n\u001b[0m",
      "\u001b[0;31mModuleNotFoundError\u001b[0m: No module named 'pandas'"
     ]
    }
   ],
   "source": [
    "import pandas as pd"
   ]
  },
  {
   "cell_type": "code",
   "execution_count": null,
   "metadata": {},
   "outputs": [],
   "source": []
  },
  {
   "cell_type": "code",
   "execution_count": 2,
   "metadata": {},
   "outputs": [
    {
     "name": "stdout",
     "output_type": "stream",
     "text": [
      "\u001b[33mWARNING: Ignoring invalid distribution -rtifi (/Library/Frameworks/Python.framework/Versions/3.8/lib/python3.8/site-packages)\u001b[0m\n",
      "\u001b[33mWARNING: Ignoring invalid distribution -ohttp (/Library/Frameworks/Python.framework/Versions/3.8/lib/python3.8/site-packages)\u001b[0m\n",
      "\u001b[33mWARNING: Ignoring invalid distribution -rllib3 (/Library/Frameworks/Python.framework/Versions/3.8/lib/python3.8/site-packages)\u001b[0m\n",
      "\u001b[33mWARNING: Ignoring invalid distribution -ohttp (/Library/Frameworks/Python.framework/Versions/3.8/lib/python3.8/site-packages)\u001b[0m\n",
      "\u001b[33mWARNING: Ignoring invalid distribution -iohttp (/Library/Frameworks/Python.framework/Versions/3.8/lib/python3.8/site-packages)\u001b[0m\n",
      "\u001b[33mWARNING: Ignoring invalid distribution - (/Library/Frameworks/Python.framework/Versions/3.8/lib/python3.8/site-packages)\u001b[0m\n",
      "\u001b[33mWARNING: Ignoring invalid distribution -ertifi (/Library/Frameworks/Python.framework/Versions/3.8/lib/python3.8/site-packages)\u001b[0m\n",
      "\u001b[33mWARNING: Ignoring invalid distribution -erkzeug (/Library/Frameworks/Python.framework/Versions/3.8/lib/python3.8/site-packages)\u001b[0m\n",
      "\u001b[33mWARNING: Ignoring invalid distribution -cikit-learn (/Library/Frameworks/Python.framework/Versions/3.8/lib/python3.8/site-packages)\u001b[0m\n",
      "\u001b[33mWARNING: Ignoring invalid distribution -arso (/Library/Frameworks/Python.framework/Versions/3.8/lib/python3.8/site-packages)\u001b[0m\n",
      "\u001b[33mWARNING: Ignoring invalid distribution -andas (/Library/Frameworks/Python.framework/Versions/3.8/lib/python3.8/site-packages)\u001b[0m\n",
      "absl-py==1.0.0\n",
      "aiofiles==0.7.0\n",
      "aiohttp==3.7.4.post0\n",
      "amqp==5.0.6\n",
      "anyio==3.3.4\n",
      "appdirs==1.4.4\n",
      "appnope==0.1.0\n",
      "arch==4.19\n",
      "argon2-cffi==20.1.0\n",
      "astroid==2.3.3\n",
      "astunparse==1.6.3\n",
      "async-timeout==3.0.1\n",
      "attrs==20.2.0\n",
      "Babel==2.9.1\n",
      "backcall==0.1.0\n",
      "backports.entry-points-selectable==1.1.1\n",
      "beautifulsoup4==4.9.3\n",
      "billiard==3.6.4.0\n",
      "bleach==3.1.5\n",
      "blinker==1.4\n",
      "Brotli==1.0.9\n",
      "cachetools==4.1.0\n",
      "cairocffi==1.2.0\n",
      "CairoSVG==2.4.2\n",
      "celery==5.1.2\n",
      "certifi==2020.11.8\n",
      "cffi==1.14.3\n",
      "chardet==3.0.4\n",
      "click==7.1.2\n",
      "click-didyoumean==0.0.3\n",
      "click-plugins==1.1.1\n",
      "click-repl==0.2.0\n",
      "clikit==0.6.2\n",
      "cloudpickle==1.6.0\n",
      "cmdstanpy==0.9.68\n",
      "convertdate==2.3.2\n",
      "crashtest==0.3.1\n",
      "cssselect==1.1.0\n",
      "cssselect2==0.4.1\n",
      "cycler==0.10.0\n",
      "Cython==0.29.24\n",
      "dash==1.17.0\n",
      "dash-bootstrap-components==0.10.7\n",
      "dash-core-components==1.13.0\n",
      "dash-extensions==0.0.65\n",
      "dash-html-components==1.1.1\n",
      "dash-renderer==1.8.3\n",
      "dash-table==4.11.0\n",
      "dask==2021.4.1\n",
      "debugpy==1.4.1\n",
      "decorator==4.4.1\n",
      "defusedxml==0.6.0\n",
      "diazo==1.4.1\n",
      "distlib==0.3.3\n",
      "distributed==2021.4.1\n",
      "Django==1.7.11\n",
      "django-haystack==2.4.1\n",
      "django-hitcounter==0.1.1\n",
      "django-revproxy==0.10.0\n",
      "django-taggit==0.22.2\n",
      "EditorConfig==0.12.3\n",
      "entrypoints==0.3\n",
      "ephem==4.0.0.2\n",
      "etiquetando==0.1\n",
      "filelock==3.3.2\n",
      "Flask==1.1.2\n",
      "Flask-Caching==1.9.0\n",
      "Flask-Compress==1.8.0\n",
      "Flask-Login==0.4.1\n",
      "Flask-SQLAlchemy==2.4.1\n",
      "fpdf==1.7.2\n",
      "fsspec==2021.4.0\n",
      "future==0.18.2\n",
      "gast==0.3.3\n",
      "google-auth==2.3.3\n",
      "google-auth-oauthlib==0.4.6\n",
      "gpxpy==1.4.2\n",
      "grpcio==1.28.1\n",
      "gunicorn==20.0.4\n",
      "h11==0.12.0\n",
      "h2==4.1.0\n",
      "h5py==2.10.0\n",
      "HeapDict==1.0.1\n",
      "hijri-converter==2.1.3\n",
      "holidays==0.11.2\n",
      "hpack==4.0.0\n",
      "html2text==2020.1.16\n",
      "html5lib==1.1\n",
      "httpstan==4.5.0\n",
      "hypercorn==0.12.0\n",
      "hyperframe==6.0.1\n",
      "idna==2.8\n",
      "imageio==2.9.0\n",
      "imutils==0.5.3\n",
      "ipykernel==6.0.3\n",
      "ipython==7.25.0\n",
      "ipython-genutils==0.2.0\n",
      "ipywidgets==7.6.3\n",
      "isort==4.3.21\n",
      "itsdangerous==1.1.0\n",
      "jedi==0.18.0\n",
      "Jinja2==2.11.2\n",
      "joblib==0.14.1\n",
      "jsbeautifier==1.14.0\n",
      "json5==0.9.6\n",
      "jsonschema==3.2.0\n",
      "jupyter==1.0.0\n",
      "jupyter-client==6.1.6\n",
      "jupyter-console==5.2.0\n",
      "jupyter-contrib-core==0.3.3\n",
      "jupyter-core==4.6.3\n",
      "jupyter-highlight-selected-word==0.2.0\n",
      "jupyter-latex-envs==1.4.6\n",
      "jupyter-server==1.11.2\n",
      "jupyterlab==3.2.4\n",
      "jupyterlab-server==2.8.2\n",
      "jupyterlab-widgets==1.0.0\n",
      "kaleido==0.2.1\n",
      "Keras==2.3.1\n",
      "Keras-Applications==1.0.8\n",
      "Keras-Preprocessing==1.1.0\n",
      "kiwisolver==1.2.0\n",
      "kombu==5.1.0\n",
      "korean-lunar-calendar==0.2.1\n",
      "lazy-object-proxy==1.4.3\n",
      "llvmlite==0.36.0\n",
      "locket==0.2.1\n",
      "LunarCalendar==0.0.9\n",
      "lxml==4.6.3\n",
      "lz4==3.1.3\n",
      "mailjet-rest==1.3.3\n",
      "Markdown==3.2.1\n",
      "MarkupSafe==1.1.1\n",
      "marshmallow==3.13.0\n",
      "matplotlib==3.3.2\n",
      "matplotlib-inline==0.1.2\n",
      "matrixprofile==1.1.10\n",
      "mccabe==0.6.1\n",
      "mediapipe==0.8.9\n",
      "mistune==0.8.4\n",
      "more-itertools==8.11.0\n",
      "MouseInfo==0.1.3\n",
      "msgpack==1.0.2\n",
      "multidict==5.1.0\n",
      "mysql-connector-python==8.0.26\n",
      "nbclassic==0.3.4\n",
      "nbconvert==5.6.1\n",
      "nbformat==5.0.7\n",
      "networkx==2.6.2\n",
      "nnfs==0.5.1\n",
      "notebook==6.4.0\n",
      "numba==0.53.1\n",
      "numpy==1.19.4\n",
      "oauthlib==3.1.0\n",
      "opencv-contrib-python==4.5.4.58\n",
      "opencv-python==4.2.0.34\n",
      "opt-einsum==3.2.1\n",
      "packaging==20.4\n",
      "pafy==0.5.5\n",
      "pandas==1.3.1\n",
      "pandocfilters==1.4.2\n",
      "parso==0.8.2\n",
      "partd==1.2.0\n",
      "pastel==0.2.1\n",
      "patsy==0.5.1\n",
      "pexpect==4.7.0\n",
      "pickleshare==0.7.5\n",
      "Pillow==7.1.2\n",
      "platformdirs==2.4.0\n",
      "plotly==4.12.0\n",
      "portpicker==1.2.0\n",
      "poster==0.5\n",
      "poster3==0.8.1\n",
      "priority==2.0.0\n",
      "prometheus-client==0.11.0\n",
      "prompt-toolkit==3.0.19\n",
      "property-cached==1.6.4\n",
      "prophet==1.0.1\n",
      "protobuf==3.19.1\n",
      "psutil==5.8.0\n",
      "psycopg2-binary==2.8.6\n",
      "ptyprocess==0.6.0\n",
      "py4j==0.10.9.2\n",
      "pyasn1==0.4.8\n",
      "pyasn1-modules==0.2.8\n",
      "PyAudio==0.2.11\n",
      "PyAutoGUI==0.9.53\n",
      "pycparser==2.20\n",
      "pydot==1.4.1\n",
      "pygame==2.1.0\n",
      "PyGetWindow==0.0.9\n",
      "Pygments==2.5.2\n",
      "pylev==1.4.0\n",
      "pylint==2.4.4\n",
      "PyMeeus==0.5.11\n",
      "PyMsgBox==1.0.9\n",
      "PyMySQL==1.0.2\n",
      "pyobjc==8.1\n",
      "pyobjc-core==8.1\n",
      "pyobjc-framework-Accessibility==8.1\n",
      "pyobjc-framework-Accounts==8.1\n",
      "pyobjc-framework-AddressBook==8.1\n",
      "pyobjc-framework-AdServices==8.1\n",
      "pyobjc-framework-AdSupport==8.1\n",
      "pyobjc-framework-AppleScriptKit==8.1\n",
      "pyobjc-framework-AppleScriptObjC==8.1\n",
      "pyobjc-framework-ApplicationServices==8.1\n",
      "pyobjc-framework-AppTrackingTransparency==8.1\n",
      "pyobjc-framework-AudioVideoBridging==8.1\n",
      "pyobjc-framework-AuthenticationServices==8.1\n",
      "pyobjc-framework-AutomaticAssessmentConfiguration==8.1\n",
      "pyobjc-framework-Automator==8.1\n",
      "pyobjc-framework-AVFoundation==8.1\n",
      "pyobjc-framework-AVKit==8.1\n",
      "pyobjc-framework-BusinessChat==8.1\n",
      "pyobjc-framework-CalendarStore==8.1\n",
      "pyobjc-framework-CallKit==8.1\n",
      "pyobjc-framework-CFNetwork==8.1\n",
      "pyobjc-framework-ClassKit==8.1\n",
      "pyobjc-framework-CloudKit==8.1\n",
      "pyobjc-framework-Cocoa==8.1\n",
      "pyobjc-framework-Collaboration==8.1\n",
      "pyobjc-framework-ColorSync==8.1\n",
      "pyobjc-framework-Contacts==8.1\n",
      "pyobjc-framework-ContactsUI==8.1\n",
      "pyobjc-framework-CoreAudio==8.1\n",
      "pyobjc-framework-CoreAudioKit==8.1\n",
      "pyobjc-framework-CoreBluetooth==8.1\n",
      "pyobjc-framework-CoreData==8.1\n",
      "pyobjc-framework-CoreHaptics==8.1\n",
      "pyobjc-framework-CoreLocation==8.1\n",
      "pyobjc-framework-CoreMedia==8.1\n",
      "pyobjc-framework-CoreMediaIO==8.1\n",
      "pyobjc-framework-CoreMIDI==8.1\n",
      "pyobjc-framework-CoreML==8.1\n",
      "pyobjc-framework-CoreMotion==8.1\n",
      "pyobjc-framework-CoreServices==8.1\n",
      "pyobjc-framework-CoreSpotlight==8.1\n",
      "pyobjc-framework-CoreText==8.1\n",
      "pyobjc-framework-CoreWLAN==8.1\n",
      "pyobjc-framework-CryptoTokenKit==8.1\n",
      "pyobjc-framework-DataDetection==8.1\n",
      "pyobjc-framework-DeviceCheck==8.1\n",
      "pyobjc-framework-DictionaryServices==8.1\n",
      "pyobjc-framework-DiscRecording==8.1\n",
      "pyobjc-framework-DiscRecordingUI==8.1\n",
      "pyobjc-framework-DiskArbitration==8.1\n",
      "pyobjc-framework-DVDPlayback==8.1\n",
      "pyobjc-framework-EventKit==8.1\n",
      "pyobjc-framework-ExceptionHandling==8.1\n",
      "pyobjc-framework-ExecutionPolicy==8.1\n",
      "pyobjc-framework-ExternalAccessory==8.1\n",
      "pyobjc-framework-FileProvider==8.1\n",
      "pyobjc-framework-FileProviderUI==8.1\n",
      "pyobjc-framework-FinderSync==8.1\n",
      "pyobjc-framework-FSEvents==8.1\n",
      "pyobjc-framework-GameCenter==8.1\n",
      "pyobjc-framework-GameController==8.1\n",
      "pyobjc-framework-GameKit==8.1\n",
      "pyobjc-framework-GameplayKit==8.1\n",
      "pyobjc-framework-ImageCaptureCore==8.1\n",
      "pyobjc-framework-IMServicePlugIn==8.1\n",
      "pyobjc-framework-InputMethodKit==8.1\n",
      "pyobjc-framework-InstallerPlugins==8.1\n",
      "pyobjc-framework-InstantMessage==8.1\n",
      "pyobjc-framework-Intents==8.1\n",
      "pyobjc-framework-IntentsUI==8.1\n",
      "pyobjc-framework-IOSurface==8.1\n",
      "pyobjc-framework-iTunesLibrary==8.1\n",
      "pyobjc-framework-KernelManagement==8.1\n",
      "pyobjc-framework-LatentSemanticMapping==8.1\n",
      "pyobjc-framework-LaunchServices==8.1\n",
      "pyobjc-framework-libdispatch==8.1\n",
      "pyobjc-framework-LinkPresentation==8.1\n",
      "pyobjc-framework-LocalAuthentication==8.1\n",
      "pyobjc-framework-LocalAuthenticationEmbeddedUI==8.1\n",
      "pyobjc-framework-MailKit==8.1\n",
      "pyobjc-framework-MapKit==8.1\n",
      "pyobjc-framework-MediaAccessibility==8.1\n",
      "pyobjc-framework-MediaLibrary==8.1\n",
      "pyobjc-framework-MediaPlayer==8.1\n",
      "pyobjc-framework-MediaToolbox==8.1\n",
      "pyobjc-framework-Metal==8.1\n",
      "pyobjc-framework-MetalKit==8.1\n",
      "pyobjc-framework-MetalPerformanceShaders==8.1\n",
      "pyobjc-framework-MetalPerformanceShadersGraph==8.1\n",
      "pyobjc-framework-MetricKit==8.1\n",
      "pyobjc-framework-MLCompute==8.1\n",
      "pyobjc-framework-ModelIO==8.1\n",
      "pyobjc-framework-MultipeerConnectivity==8.1\n",
      "pyobjc-framework-NaturalLanguage==8.1\n",
      "pyobjc-framework-NetFS==8.1\n",
      "pyobjc-framework-Network==8.1\n",
      "pyobjc-framework-NetworkExtension==8.1\n",
      "pyobjc-framework-NotificationCenter==8.1\n",
      "pyobjc-framework-OpenDirectory==8.1\n",
      "pyobjc-framework-OSAKit==8.1\n",
      "pyobjc-framework-OSLog==8.1\n",
      "pyobjc-framework-PassKit==8.1\n",
      "pyobjc-framework-PencilKit==8.1\n",
      "pyobjc-framework-Photos==8.1\n",
      "pyobjc-framework-PhotosUI==8.1\n",
      "pyobjc-framework-PreferencePanes==8.1\n",
      "pyobjc-framework-PushKit==8.1\n",
      "pyobjc-framework-Quartz==8.1\n",
      "pyobjc-framework-QuickLookThumbnailing==8.1\n",
      "pyobjc-framework-ReplayKit==8.1\n",
      "pyobjc-framework-SafariServices==8.1\n",
      "pyobjc-framework-SceneKit==8.1\n",
      "pyobjc-framework-ScreenSaver==8.1\n",
      "pyobjc-framework-ScreenTime==8.1\n",
      "pyobjc-framework-ScriptingBridge==8.1\n",
      "pyobjc-framework-SearchKit==8.1\n",
      "pyobjc-framework-Security==8.1\n",
      "pyobjc-framework-SecurityFoundation==8.1\n",
      "pyobjc-framework-SecurityInterface==8.1\n",
      "pyobjc-framework-ServiceManagement==8.1\n",
      "pyobjc-framework-ShazamKit==8.1\n",
      "pyobjc-framework-Social==8.1\n",
      "pyobjc-framework-SoundAnalysis==8.1\n",
      "pyobjc-framework-Speech==8.1\n",
      "pyobjc-framework-SpriteKit==8.1\n",
      "pyobjc-framework-StoreKit==8.1\n",
      "pyobjc-framework-SyncServices==8.1\n",
      "pyobjc-framework-SystemConfiguration==8.1\n",
      "pyobjc-framework-SystemExtensions==8.1\n",
      "pyobjc-framework-UniformTypeIdentifiers==8.1\n",
      "pyobjc-framework-UserNotifications==8.1\n",
      "pyobjc-framework-UserNotificationsUI==8.1\n",
      "pyobjc-framework-VideoSubscriberAccount==8.1\n",
      "pyobjc-framework-VideoToolbox==8.1\n",
      "pyobjc-framework-Virtualization==8.1\n",
      "pyobjc-framework-Vision==8.1\n",
      "pyobjc-framework-WebKit==8.1\n",
      "pyparsing==2.4.7\n",
      "pyperclip==1.8.2\n",
      "Pyphen==0.10.0\n",
      "PyRect==0.1.4\n",
      "pyrsistent==0.16.0\n",
      "PyScreeze==0.1.28\n",
      "pysimdjson==3.2.0\n",
      "pyspark==3.2.0\n",
      "pystan==2.19.1.1\n",
      "pyTelegramBotAPI==3.7.2\n",
      "python-dateutil==2.8.1\n",
      "pyts==0.11.0\n",
      "pytweening==1.0.4\n",
      "pytz==2020.4\n",
      "PyWavelets==1.1.1\n",
      "pywhatkit==5.2\n",
      "PyYAML==5.3.1\n",
      "pyzmq==19.0.1\n",
      "qtconsole==5.1.1\n",
      "QtPy==1.9.0\n",
      "quart==0.16.1\n",
      "redis==3.5.3\n",
      "repoze.lru==0.7\n",
      "requests==2.21.0\n",
      "requests-oauthlib==1.3.0\n",
      "retrying==1.3.3\n",
      "rsa==4.0\n",
      "rubicon-objc==0.4.2\n",
      "scikit-image==0.18.2\n",
      "scikit-learn==0.24.2\n",
      "scipy==1.5.4\n",
      "seaborn==0.11.0\n",
      "Send2Trash==1.7.1\n",
      "setuptools-git==1.2\n",
      "shortuuid==0.5.0\n",
      "simplegeneric==0.8.1\n",
      "six==1.16.0\n",
      "sklearn==0.0\n",
      "sktime==0.6.0\n",
      "sniffio==1.2.0\n",
      "sortedcontainers==2.3.0\n",
      "soupsieve==2.2.1\n",
      "SQLAlchemy==1.3.12\n",
      "statsmodels==0.12.2\n",
      "stemming==1.0.1\n",
      "stumpy==1.8.0\n",
      "tblib==1.7.0\n",
      "telebot==0.0.3\n",
      "tensorboard==2.2.1\n",
      "tensorboard-plugin-wit==1.6.0.post3\n",
      "tensorflow==2.2.0\n",
      "tensorflow-estimator==2.2.0\n",
      "termcolor==1.1.0\n",
      "terminado==0.10.1\n",
      "testpath==0.4.4\n",
      "threadpoolctl==2.1.0\n",
      "tifffile==2021.7.2\n",
      "tinycss2==1.0.2\n",
      "toml==0.10.2\n",
      "toolz==0.11.1\n",
      "tornado==6.1\n",
      "tqdm==4.60.0\n",
      "traitlets==4.3.3\n",
      "tsfresh==0.18.0\n",
      "typed-ast==1.4.1\n",
      "typing-extensions==3.10.0.0\n",
      "ujson==4.0.2\n",
      "uncertainties==3.1.4\n",
      "urllib3==1.24.3\n",
      "validate-email==1.3\n",
      "vine==5.0.0\n",
      "virtualenv==20.10.0\n",
      "wcwidth==0.1.8\n",
      "WeasyPrint==51\n",
      "webargs==7.0.1\n",
      "webencodings==0.5.1\n",
      "websocket-client==1.2.1\n",
      "websockets==9.1\n",
      "Werkzeug==2.0.2\n",
      "Whoosh==2.7.4\n",
      "widgetsnbextension==3.5.1\n",
      "wikipedia==1.4.0\n",
      "wrapt==1.12.1\n",
      "wsproto==1.0.0\n",
      "yarl==1.6.3\n",
      "youtube-dl==2021.6.6\n",
      "zict==2.0.0\n",
      "zipp==3.6.0\n"
     ]
    }
   ],
   "source": [
    "!pip freeze"
   ]
  },
  {
   "cell_type": "code",
   "execution_count": null,
   "metadata": {},
   "outputs": [],
   "source": []
  }
 ],
 "metadata": {
  "kernelspec": {
   "display_name": "myenv",
   "language": "python",
   "name": "myenv"
  },
  "language_info": {
   "codemirror_mode": {
    "name": "ipython",
    "version": 3
   },
   "file_extension": ".py",
   "mimetype": "text/x-python",
   "name": "python",
   "nbconvert_exporter": "python",
   "pygments_lexer": "ipython3",
   "version": "3.8.4"
  }
 },
 "nbformat": 4,
 "nbformat_minor": 4
}
